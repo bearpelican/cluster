{
 "cells": [
  {
   "cell_type": "code",
   "execution_count": 1,
   "metadata": {},
   "outputs": [],
   "source": [
    "import torch\n",
    "from pathlib import Path\n",
    "import os\n",
    "import numpy as np\n",
    "import torch.nn as nn\n",
    "from datetime import datetime\n",
    "\n",
    "import torch.nn.functional as F\n",
    "\n",
    "from fp16util import *\n",
    "from resnet import *"
   ]
  },
  {
   "cell_type": "code",
   "execution_count": 2,
   "metadata": {},
   "outputs": [],
   "source": [
    "from fastai.conv_learner import Learner, TrainingPhase, ModelData, accuracy, DecayType\n",
    "from functools import partial\n",
    "from PIL import Image"
   ]
  },
  {
   "cell_type": "code",
   "execution_count": 3,
   "metadata": {},
   "outputs": [],
   "source": [
    "from fastai.conv_learner import *"
   ]
  },
  {
   "cell_type": "code",
   "execution_count": 4,
   "metadata": {},
   "outputs": [],
   "source": [
    "import argparse, os, shutil, time, warnings"
   ]
  },
  {
   "cell_type": "code",
   "execution_count": 5,
   "metadata": {},
   "outputs": [],
   "source": [
    "# from fastai.models.cifar10.wideresnet import wrn_22_cat, wrn_22, WideResNetConcat\n",
    "torch.backends.cudnn.benchmark = True\n",
    "PATH = Path.home()/'data/cifar10/'\n",
    "os.makedirs(PATH,exist_ok=True)"
   ]
  },
  {
   "cell_type": "code",
   "execution_count": 6,
   "metadata": {},
   "outputs": [],
   "source": [
    "import torchvision.transforms as transforms\n",
    "import torchvision.datasets as datasets\n",
    "from torch.utils.data import DataLoader\n",
    "def pad(img, p=4, padding_mode='reflect'):\n",
    "    return Image.fromarray(np.pad(np.asarray(img), ((p, p), (p, p), (0, 0)), padding_mode))"
   ]
  },
  {
   "cell_type": "code",
   "execution_count": 7,
   "metadata": {},
   "outputs": [],
   "source": [
    "workers = 7"
   ]
  },
  {
   "cell_type": "markdown",
   "metadata": {},
   "source": [
    "## Model"
   ]
  },
  {
   "cell_type": "code",
   "execution_count": 8,
   "metadata": {},
   "outputs": [],
   "source": [
    "# --\n",
    "# Model definition\n",
    "# Derived from models in `https://github.com/kuangliu/pytorch-cifar`\n",
    "\n",
    "class PreActBlock(nn.Module):\n",
    "    \n",
    "    def __init__(self, in_channels, out_channels, stride=1):\n",
    "        super().__init__()\n",
    "        \n",
    "        self.bn1   = nn.BatchNorm2d(in_channels)\n",
    "        self.conv1 = nn.Conv2d(in_channels, out_channels, kernel_size=3, stride=stride, padding=1, bias=False)\n",
    "        self.bn2   = nn.BatchNorm2d(out_channels)\n",
    "        self.conv2 = nn.Conv2d(out_channels, out_channels, kernel_size=3, stride=1, padding=1, bias=False)\n",
    "        \n",
    "        if stride != 1 or in_channels != out_channels:\n",
    "            self.shortcut = nn.Sequential(\n",
    "                nn.Conv2d(in_channels, out_channels, kernel_size=1, stride=stride, bias=False)\n",
    "            )\n",
    "            \n",
    "    def forward(self, x):\n",
    "        out = F.relu(self.bn1(x))\n",
    "        shortcut = self.shortcut(out) if hasattr(self, 'shortcut') else x\n",
    "        out = self.conv1(out)\n",
    "        out = self.conv2(F.relu(self.bn2(out)))\n",
    "        return out + shortcut\n",
    "\n",
    "\n",
    "class ResNet18(nn.Module):\n",
    "    def __init__(self, num_blocks=[2, 2, 2, 2], num_classes=10):\n",
    "        super().__init__()\n",
    "        \n",
    "        self.in_channels = 64\n",
    "        \n",
    "        self.prep = nn.Sequential(\n",
    "            nn.Conv2d(3, 64, kernel_size=3, stride=1, padding=1, bias=False),\n",
    "            nn.BatchNorm2d(64),\n",
    "            nn.ReLU()\n",
    "        )\n",
    "        \n",
    "        self.layers = nn.Sequential(\n",
    "            self._make_layer(64, 64, num_blocks[0], stride=1),\n",
    "            self._make_layer(64, 128, num_blocks[1], stride=2),\n",
    "            self._make_layer(128, 256, num_blocks[2], stride=2),\n",
    "            self._make_layer(256, 256, num_blocks[3], stride=2),\n",
    "        )\n",
    "        \n",
    "        self.classifier = nn.Linear(512, num_classes)\n",
    "        \n",
    "    def _make_layer(self, in_channels, out_channels, num_blocks, stride):\n",
    "        \n",
    "        strides = [stride] + [1] * (num_blocks-1)\n",
    "        layers = []\n",
    "        for stride in strides:\n",
    "            layers.append(PreActBlock(in_channels=in_channels, out_channels=out_channels, stride=stride))\n",
    "            in_channels = out_channels\n",
    "        \n",
    "        return nn.Sequential(*layers)\n",
    "    \n",
    "    def forward(self, x):\n",
    "        x = self.prep(x)\n",
    "        \n",
    "        x = self.layers(x)\n",
    "        \n",
    "        x_avg = F.adaptive_avg_pool2d(x, (1, 1))\n",
    "        x_avg = x_avg.view(x_avg.size(0), -1)\n",
    "        \n",
    "        x_max = F.adaptive_max_pool2d(x, (1, 1))\n",
    "        x_max = x_max.view(x_max.size(0), -1)\n",
    "        \n",
    "        x = torch.cat([x_avg, x_max], dim=-1)\n",
    "        \n",
    "        x = self.classifier(x)\n",
    "        \n",
    "        return x"
   ]
  },
  {
   "cell_type": "code",
   "execution_count": 9,
   "metadata": {},
   "outputs": [],
   "source": [
    "from autoaugment import CIFAR10Policy"
   ]
  },
  {
   "cell_type": "code",
   "execution_count": 10,
   "metadata": {},
   "outputs": [],
   "source": [
    "\n",
    "def torch_loader(data_path, size, bs, val_bs=None):\n",
    "\n",
    "    val_bs = val_bs or bs\n",
    "    # Data loading code\n",
    "    tfms = [transforms.ToTensor(), transforms.Normalize((0.4914, 0.4822, 0.4465), (0.24703,0.24349,0.26159))]\n",
    "\n",
    "    train_tfms = transforms.Compose([\n",
    "        pad, # TODO: use `padding` rather than assuming 4\n",
    "        transforms.RandomCrop(size),\n",
    "        transforms.RandomHorizontalFlip(), CIFAR10Policy(), \n",
    "    ] + tfms)\n",
    "    val_tfms = transforms.Compose(tfms)\n",
    "\n",
    "    train_dataset = datasets.CIFAR10(root=data_path, train=True, download=True, transform=train_tfms)\n",
    "    val_dataset  = datasets.CIFAR10(root=data_path, train=False, download=True, transform=val_tfms)\n",
    "\n",
    "    train_loader = DataLoader(\n",
    "        train_dataset, batch_size=bs, shuffle=True,\n",
    "        num_workers=workers, pin_memory=True)\n",
    "\n",
    "    val_loader = DataLoader(\n",
    "        val_dataset, batch_size=val_bs, shuffle=False,\n",
    "        num_workers=workers, pin_memory=True)\n",
    "    \n",
    "    train_loader = DataPrefetcher(train_loader)\n",
    "    val_loader = DataPrefetcher(val_loader)\n",
    "    \n",
    "    data = ModelData(data_path, train_loader, val_loader)\n",
    "    data.sz = size\n",
    "    return data\n",
    "\n",
    "# Seems to speed up training by ~2%\n",
    "class DataPrefetcher():\n",
    "    def __init__(self, loader, stop_after=None):\n",
    "        self.loader = loader\n",
    "        self.dataset = loader.dataset\n",
    "        self.stream = torch.cuda.Stream()\n",
    "        self.stop_after = stop_after\n",
    "        self.next_input = None\n",
    "        self.next_target = None\n",
    "\n",
    "    def __len__(self):\n",
    "        return len(self.loader)\n",
    "\n",
    "    def preload(self):\n",
    "        try:\n",
    "            self.next_input, self.next_target = next(self.loaditer)\n",
    "        except StopIteration:\n",
    "            self.next_input = None\n",
    "            self.next_target = None\n",
    "            return\n",
    "        with torch.cuda.stream(self.stream):\n",
    "            self.next_input = self.next_input.cuda(async=True)\n",
    "            self.next_target = self.next_target.cuda(async=True)\n",
    "\n",
    "    def __iter__(self):\n",
    "        count = 0\n",
    "        self.loaditer = iter(self.loader)\n",
    "        self.preload()\n",
    "        while self.next_input is not None:\n",
    "            torch.cuda.current_stream().wait_stream(self.stream)\n",
    "            input = self.next_input\n",
    "            target = self.next_target\n",
    "            self.preload()\n",
    "            count += 1\n",
    "            yield input, target\n",
    "            if type(self.stop_after) is int and (count > self.stop_after):\n",
    "                break"
   ]
  },
  {
   "cell_type": "code",
   "execution_count": 10,
   "metadata": {},
   "outputs": [
    {
     "name": "stdout",
     "output_type": "stream",
     "text": [
      "Files already downloaded and verified\n",
      "Files already downloaded and verified\n"
     ]
    },
    {
     "data": {
      "application/vnd.jupyter.widget-view+json": {
       "model_id": "305519a9d53449d99e9d8a023fb4a228",
       "version_major": 2,
       "version_minor": 0
      },
      "text/plain": [
       "HBox(children=(IntProgress(value=0, description='Epoch', max=35), HTML(value='')))"
      ]
     },
     "metadata": {},
     "output_type": "display_data"
    },
    {
     "name": "stdout",
     "output_type": "stream",
     "text": [
      "epoch      trn_loss   val_loss   accuracy                   \n",
      "    0      1.764004   1.669598   0.4276    \n",
      "    1      1.287702   1.376742   0.5179                     \n",
      "    2      1.037439   1.514856   0.5442                     \n",
      "    3      0.905836   0.901278   0.6948                      \n",
      "    4      0.828128   0.779816   0.7373                      \n",
      "    5      0.77735    1.133747   0.677                       \n",
      "    6      0.728096   0.632654   0.7776                      \n",
      "    7      0.677027   0.73582    0.7738                      \n",
      "    8      0.634679   0.575511   0.8066                      \n",
      "    9      0.612155   0.579327   0.8046                      \n",
      "    10     0.581803   0.48661    0.8336                      \n",
      "    11     0.559674   0.475198   0.8409                      \n",
      "    12     0.552187   0.534952   0.8272                      \n",
      "    13     0.539548   0.605655   0.8049                      \n",
      "    14     0.543335   0.538854   0.8243                      \n",
      "    15     0.507774   0.470604   0.8436                      \n",
      "    16     0.486774   0.431227   0.8567                      \n",
      "    17     0.458291   0.410518   0.8657                      \n",
      "    18     0.443815   0.353423   0.8801                      \n",
      "    19     0.415729   0.339512   0.8861                      \n",
      "    20     0.395578   0.370179   0.8829                      \n",
      "    21     0.362068   0.313982   0.8975                      \n",
      "    22     0.351529   0.287877   0.9007                      \n",
      "    23     0.332159   0.268831   0.9077                      \n",
      "    24     0.309337   0.267368   0.9134                      \n",
      "    25     0.296604   0.301751   0.9015                      \n",
      "    26     0.27979    0.236216   0.9215                      \n",
      "    27     0.259608   0.231502   0.9229                      \n",
      "    28     0.23947    0.212738   0.9287                      \n",
      "    29     0.226911   0.201785   0.9303                      \n",
      "    30     0.212679   0.196374   0.9332                      \n",
      "    31     0.209788   0.199097   0.9336                      \n",
      "    32     0.196254   0.197407   0.9338                      \n",
      "    33     0.211124   0.196611   0.9336                      \n",
      "    34     0.203698   0.195782   0.9331                      \n",
      "\n"
     ]
    },
    {
     "data": {
      "text/plain": [
       "[0.195781640625, 0.9330999994277954]"
      ]
     },
     "execution_count": 10,
     "metadata": {},
     "output_type": "execute_result"
    }
   ],
   "source": [
    "model = ResNet18()\n",
    "model = model.cuda()\n",
    "\n",
    "model = network_to_half(model)\n",
    "\n",
    "# AS: todo: don't copy over weights as it seems to help performance\n",
    "\n",
    "wd=1e-4\n",
    "lr=1e-1\n",
    "momentum = 0.9\n",
    "# learn.clip = 1e-1\n",
    "bs = 256\n",
    "lrs = (0, 2e-1, 1e-2, 0)\n",
    "sz=32\n",
    "\n",
    "\n",
    "data = torch_loader(PATH, sz, bs, bs*2)\n",
    "    \n",
    "learn = Learner.from_model_data(model, data)\n",
    "# learn.half()\n",
    "learn.crit = F.cross_entropy\n",
    "learn.metrics = [accuracy]\n",
    "learn.opt_fn = partial(torch.optim.SGD, nesterov=True, momentum=0.9)\n",
    "def_phase = {'opt_fn':learn.opt_fn, 'wds':wd, 'momentum':0.9}\n",
    "\n",
    "phases = [\n",
    "    TrainingPhase(**def_phase, epochs=15, lr=lrs[:2], lr_decay=DecayType.LINEAR),\n",
    "    TrainingPhase(**def_phase, epochs=15, lr=lrs[1:3], lr_decay=DecayType.LINEAR),\n",
    "    TrainingPhase(**def_phase, epochs=5, lr=lrs[-2:], lr_decay=DecayType.LINEAR),\n",
    "]\n",
    "\n",
    "learn.fit_opt_sched(phases)"
   ]
  },
  {
   "cell_type": "code",
   "execution_count": null,
   "metadata": {},
   "outputs": [
    {
     "name": "stdout",
     "output_type": "stream",
     "text": [
      "Files already downloaded and verified\n",
      "Files already downloaded and verified\n"
     ]
    },
    {
     "data": {
      "application/vnd.jupyter.widget-view+json": {
       "model_id": "68d5f09229ac47fa924d10f449f4c633",
       "version_major": 2,
       "version_minor": 0
      },
      "text/plain": [
       "HBox(children=(IntProgress(value=0, description='Epoch', max=35), HTML(value='')))"
      ]
     },
     "metadata": {},
     "output_type": "display_data"
    },
    {
     "name": "stdout",
     "output_type": "stream",
     "text": [
      "epoch      trn_loss   val_loss   accuracy                 \n",
      "    0      1.896388   1.69485    0.3945    \n",
      "    1      1.489245   1.427309   0.5192                   \n",
      "    2      1.17452    1.538377   0.5762                   \n",
      "    3      0.980957   0.925872   0.6939                    \n",
      "    4      0.871169   0.68867    0.7655                    \n",
      "    5      0.795293   0.770804   0.7301                    \n",
      "    6      0.747305   0.606716   0.7926                    \n",
      "    7      0.699317   0.74764    0.7397                    \n",
      "    8      0.664783   0.593196   0.8032                    \n",
      "    9      0.649147   1.022948   0.6906                    \n",
      "    10     0.644033   0.675278   0.7738                    \n",
      "    11     0.626524   0.685498   0.777                     \n",
      "    12     0.626378   0.682255   0.7753                    \n",
      "    13     0.643646   0.545291   0.8178                    \n",
      "    14     0.627443   0.630255   0.7754                    \n",
      "    15     0.630527   0.655323   0.7877                    \n",
      "    16     0.594266   0.629752   0.7748                    \n",
      "    17     0.569922   0.676956   0.7687                    \n",
      "    18     0.545385   0.81944    0.7352                    \n",
      "    19     0.51212    0.492825   0.839                     \n",
      "    20     0.498713   0.697024   0.7789                    \n",
      "    21     0.47446    0.389071   0.8657                    \n",
      "    22     0.451502   0.417259   0.8551                    \n",
      "    23     0.431282   0.591982   0.8094                    \n",
      "    24     0.402947   0.35175    0.8776                    \n",
      "    25     0.377867   0.336735   0.8873                    \n",
      "    26     0.354232   0.309371   0.8988                    \n",
      "    27     0.326706   0.2652     0.9102                    \n",
      "    28     0.293898   0.239068   0.921                     \n",
      "    29     0.257946   0.203742   0.9288                    \n",
      "    30     0.239758   0.201383   0.9315                    \n",
      "    31     0.229457   0.197283   0.9301                    \n",
      " 99%|█████████▉| 97/98 [00:06<00:00, 15.41it/s, loss=0.22] "
     ]
    }
   ],
   "source": [
    "model = ResNet18()\n",
    "model = model.cuda()\n",
    "\n",
    "model = network_to_half(model)\n",
    "\n",
    "# AS: todo: don't copy over weights as it seems to help performance\n",
    "\n",
    "wd=5e-4\n",
    "lr=1e-1\n",
    "momentum = 0.9\n",
    "# learn.clip = 1e-1\n",
    "bs = 512\n",
    "lrs = (0, 4e-1, 2e-2, 0)\n",
    "sz=32\n",
    "\n",
    "\n",
    "data = torch_loader(PATH, sz, bs, bs*2)\n",
    "    \n",
    "learn = Learner.from_model_data(model, data)\n",
    "# learn.half()\n",
    "learn.crit = F.cross_entropy\n",
    "learn.metrics = [accuracy]\n",
    "learn.opt_fn = partial(torch.optim.SGD, nesterov=True, momentum=0.9)\n",
    "def_phase = {'opt_fn':learn.opt_fn, 'wds':wd, 'momentum':0.9}\n",
    "\n",
    "phases = [\n",
    "    TrainingPhase(**def_phase, epochs=15, lr=lrs[:2], lr_decay=DecayType.LINEAR),\n",
    "    TrainingPhase(**def_phase, epochs=15, lr=lrs[1:3], lr_decay=DecayType.LINEAR),\n",
    "    TrainingPhase(**def_phase, epochs=5, lr=lrs[-2:], lr_decay=DecayType.LINEAR),\n",
    "]\n",
    "\n",
    "learn.fit_opt_sched(phases)"
   ]
  },
  {
   "cell_type": "code",
   "execution_count": 11,
   "metadata": {},
   "outputs": [],
   "source": [
    "class MixUpDataLoader(object):\n",
    "    \"\"\"\n",
    "    Creates a new data loader with mixup from a given dataloader.\n",
    "    \n",
    "    Mixup is applied between a batch and a shuffled version of itself. \n",
    "    If we use a regular beta distribution, this can create near duplicates as some lines might be \n",
    "    1 * original + 0 * shuffled while others could be 0 * original + 1 * shuffled, this is why\n",
    "    there is a trick where we take the maximum of lambda and 1-lambda.\n",
    "    \n",
    "    Arguments:\n",
    "    dl (DataLoader): the data loader to mix up\n",
    "    alpha (float): value of the parameter to use in the beta distribution.\n",
    "    \"\"\"\n",
    "    def __init__(self, dl, alpha):\n",
    "        self.dl, self.alpha = dl, alpha\n",
    "        \n",
    "    def __len__(self):\n",
    "        return len(self.dl)\n",
    "    \n",
    "    def __iter__(self):\n",
    "        for (x, y) in iter(self.dl):\n",
    "            #Taking one different lambda per image speeds up training \n",
    "            lambd = np.random.beta(self.alpha, self.alpha, y.size(0))\n",
    "            #Trick to avoid near duplicates\n",
    "            lambd = np.concatenate([lambd[:,None], 1-lambd[:,None]], 1).max(1)\n",
    "            lambd = to_gpu(VV(lambd)).half()\n",
    "            shuffle = torch.randperm(y.size(0))\n",
    "            x1, y1 = x[shuffle], y[shuffle]\n",
    "            yield (x.half() * lambd.view(lambd.size(0),1,1,1) + x1.half() * (1-lambd).view(lambd.size(0),1,1,1), [y, y1, lambd])\n",
    "            \n",
    "class MixUpLoss(nn.Module):\n",
    "    \"\"\"\n",
    "    Adapts the loss function to go with mixup.\n",
    "    \n",
    "    Since the targets aren't one-hot encoded, we use the linearity of the loss function with\n",
    "    regards to the target to mix up the loss instead of one-hot encoded targets.\n",
    "    \n",
    "    Argument:\n",
    "    crit: a loss function. It must have the parameter reduced=False to have the loss per element.\n",
    "    \"\"\"\n",
    "    def __init__(self, crit):\n",
    "        super().__init__()\n",
    "        self.crit = crit()\n",
    "        \n",
    "    def forward(self, output, target):\n",
    "        if not isinstance(target, list): return self.crit(output, target).mean()\n",
    "        loss1, loss2 = self.crit(output,target[0]), self.crit(output,target[1])\n",
    "        return (loss1 * target[2] + loss2 * (1-target[2])).mean()"
   ]
  },
  {
   "cell_type": "code",
   "execution_count": 20,
   "metadata": {},
   "outputs": [],
   "source": [
    "# m = wrn_22()\n",
    "# opt_fn = partial(optim.Adam, betas=(0.95,0.99))\n",
    "# learn = ConvLearner.from_model_data(m, data)\n",
    "# learn.metrics = [accuracy]\n",
    "# wd=1e-4\n",
    "# learn.opt_fn = opt_fn\n",
    "# learn.data.trn_dl = mixup_dl\n",
    "# learn.crit = MixUpLoss(partial(nn.CrossEntropyLoss, reduce=False))"
   ]
  },
  {
   "cell_type": "code",
   "execution_count": 22,
   "metadata": {},
   "outputs": [
    {
     "name": "stdout",
     "output_type": "stream",
     "text": [
      "Files already downloaded and verified\n",
      "Files already downloaded and verified\n"
     ]
    },
    {
     "data": {
      "application/vnd.jupyter.widget-view+json": {
       "model_id": "d82be1a8ef334fdd8182cbfa74e39c36",
       "version_major": 2,
       "version_minor": 0
      },
      "text/plain": [
       "HBox(children=(IntProgress(value=0, description='Epoch', max=35), HTML(value='')))"
      ]
     },
     "metadata": {},
     "output_type": "display_data"
    },
    {
     "name": "stdout",
     "output_type": "stream",
     "text": [
      "epoch      trn_loss   val_loss   accuracy                   \n",
      "    0      2.014805   1.654992   0.394     \n",
      "    1      1.780525   1.236267   0.5818                     \n",
      "    2      1.641302   1.180612   0.6062                     \n",
      "    3      1.573484   1.190717   0.605                      \n",
      "    4      1.50012    1.000758   0.6753                     \n",
      "    5      1.438768   0.765143   0.747                      \n",
      "    6      1.413901   0.72423    0.771                      \n",
      "    7      1.378722   0.798111   0.7356                     \n",
      "    8      1.351556   0.68767    0.793                      \n",
      "    9      1.317362   0.704825   0.7809                     \n",
      "    10     1.30258    0.605433   0.8158                     \n",
      "    11     1.283154   0.653912   0.7936                     \n",
      "    12     1.276553   0.575738   0.8386                     \n",
      "    13     1.267437   0.547024   0.8428                     \n",
      "    14     1.255462   0.494032   0.8588                     \n",
      "    15     1.240891   0.48393    0.8655                     \n",
      "    16     1.207685   0.486838   0.8575                     \n",
      "    17     1.19267    0.447324   0.8736                     \n",
      "    18     1.17751    0.478236   0.8616                     \n",
      "    19     1.157905   0.388672   0.8856                     \n",
      "    20     1.138311   0.420434   0.8838                     \n",
      "    21     1.135491   0.392963   0.8969                     \n",
      "    22     1.124893   0.399493   0.8911                     \n",
      "    23     1.104853   0.341336   0.9057                     \n",
      "    24     1.101226   0.338377   0.9121                     \n",
      "    25     1.083762   0.330679   0.9137                     \n",
      "    26     1.060888   0.338098   0.9123                     \n",
      "    27     1.062479   0.309853   0.9226                     \n",
      "    28     1.048099   0.307969   0.9223                     \n",
      "    29     1.042165   0.302483   0.9226                     \n",
      "    30     1.030305   0.30067    0.924                      \n",
      "    31     1.030809   0.298186   0.9251                     \n",
      "    32     1.028659   0.295651   0.9239                     \n",
      "    33     1.026751   0.296578   0.9255                     \n",
      "    34     1.023768   0.296801   0.9258                     \n"
     ]
    },
    {
     "data": {
      "text/plain": [
       "[0.29680078125, 0.925799999332428]"
      ]
     },
     "execution_count": 22,
     "metadata": {},
     "output_type": "execute_result"
    }
   ],
   "source": [
    "model = ResNet18()\n",
    "model = model.cuda()\n",
    "\n",
    "model = network_to_half(model)\n",
    "\n",
    "# AS: todo: don't copy over weights as it seems to help performance\n",
    "\n",
    "wd=1e-4\n",
    "lr=1e-1\n",
    "momentum = 0.9\n",
    "# learn.clip = 1e-1\n",
    "bs = 256\n",
    "lrs = (0, 2e-1, 1e-2, 0)\n",
    "sz=32\n",
    "\n",
    "\n",
    "data = torch_loader(PATH, sz, bs, bs*2)\n",
    "mixup_dl = MixUpDataLoader(data.trn_dl, 0.6)\n",
    "    \n",
    "learn = Learner.from_model_data(model, data)\n",
    "# learn.half()\n",
    "learn.data.trn_dl = mixup_dl\n",
    "learn.crit = MixUpLoss(partial(nn.CrossEntropyLoss, reduce=False))\n",
    "learn.metrics = [accuracy]\n",
    "learn.opt_fn = partial(torch.optim.SGD, nesterov=True, momentum=0.9)\n",
    "\n",
    "# opt_fn = partial(optim.Adam, betas=(0.95,0.99))\n",
    "def_phase = {'opt_fn':learn.opt_fn, 'wds':wd, 'momentum':0.9}\n",
    "\n",
    "phases = [\n",
    "    TrainingPhase(**def_phase, epochs=15, lr=lrs[:2], lr_decay=DecayType.LINEAR, wd_loss=False),\n",
    "    TrainingPhase(**def_phase, epochs=15, lr=lrs[1:3], lr_decay=DecayType.LINEAR, wd_loss=False),\n",
    "    TrainingPhase(**def_phase, epochs=5, lr=lrs[-2:], lr_decay=DecayType.LINEAR, wd_loss=False),\n",
    "]\n",
    "\n",
    "learn.fit_opt_sched(phases)"
   ]
  },
  {
   "cell_type": "code",
   "execution_count": 26,
   "metadata": {},
   "outputs": [
    {
     "name": "stdout",
     "output_type": "stream",
     "text": [
      "Files already downloaded and verified\n",
      "Files already downloaded and verified\n"
     ]
    },
    {
     "data": {
      "application/vnd.jupyter.widget-view+json": {
       "model_id": "936df25085994eeba5ad638b797dff3c",
       "version_major": 2,
       "version_minor": 0
      },
      "text/plain": [
       "HBox(children=(IntProgress(value=0, description='Epoch', max=35), HTML(value='')))"
      ]
     },
     "metadata": {},
     "output_type": "display_data"
    },
    {
     "name": "stdout",
     "output_type": "stream",
     "text": [
      "epoch      trn_loss   val_loss   accuracy                 \n",
      "    0      2.090858   1.562464   0.4282    \n",
      "    1      1.867956   1.38808    0.5056                   \n",
      "    2      1.699242   1.119784   0.615                    \n",
      "    3      1.585528   0.949446   0.6759                   \n",
      "    4      1.510021   0.903056   0.6909                   \n",
      "    5      1.450629   0.806435   0.7549                   \n",
      "    6      1.417132   0.739396   0.7768                   \n",
      "    7      1.385784   0.741787   0.7661                   \n",
      "    8      1.355923   0.739975   0.7696                   \n",
      "    9      1.337761   0.613872   0.8132                   \n",
      "    10     1.329115   0.696055   0.7866                   \n",
      "    11     1.307615   0.60846    0.8377                   \n",
      "    12     1.302465   0.725997   0.7926                   \n",
      "    13     1.287697   0.580276   0.8339                   \n",
      "    14     1.279528   0.604704   0.823                    \n",
      "    15     1.249727   0.841876   0.7368                   \n",
      "    16     1.243811   0.799248   0.7708                   \n",
      "    17     1.215235   0.624316   0.828                    \n",
      "    18     1.198161   0.62389    0.8637                   \n",
      "    19     1.184721   0.60205    0.8546                   \n",
      "    20     1.16243    0.539229   0.8619                   \n",
      "    21     1.145376   0.56117    0.8586                   \n",
      "    22     1.137319   0.615207   0.8512                   \n",
      "    23     1.116048   0.500385   0.877                    \n",
      "    24     1.118199   0.441617   0.8965                   \n",
      "    25     1.101283   0.481966   0.8919                   \n",
      "    26     1.092442   0.471316   0.899                    \n",
      "    27     1.07579    0.403537   0.9041                   \n",
      "    28     1.069493   0.35874    0.9102                   \n",
      "    29     1.053858   0.35848    0.918                    \n",
      "    30     1.045772   0.339862   0.9163                   \n",
      "    31     1.045287   0.332647   0.919                    \n",
      "    32     1.041844   0.316287   0.9202                   \n",
      "    33     1.040675   0.318332   0.9191                   \n",
      "    34     1.038726   0.309226   0.9209                   \n"
     ]
    },
    {
     "data": {
      "text/plain": [
       "[0.30922578125, 0.9208999980926513]"
      ]
     },
     "execution_count": 26,
     "metadata": {},
     "output_type": "execute_result"
    }
   ],
   "source": [
    "model = ResNet18()\n",
    "model = model.cuda()\n",
    "\n",
    "# model = network_to_half(model)\n",
    "\n",
    "# AS: todo: don't copy over weights as it seems to help performance\n",
    "\n",
    "wd=1e-5\n",
    "lr=1e-1\n",
    "momentum = 0.9\n",
    "# learn.clip = 1e-1\n",
    "bs = 512\n",
    "lrs = (0, 3e-3, 2e-4, 0)\n",
    "sz=32\n",
    "\n",
    "\n",
    "data = torch_loader(PATH, sz, bs, bs*2)\n",
    "mixup_dl = MixUpDataLoader(data.trn_dl, 0.6)\n",
    "    \n",
    "learn = Learner.from_model_data(model, data)\n",
    "learn.half()\n",
    "learn.data.trn_dl = mixup_dl\n",
    "learn.crit = MixUpLoss(partial(nn.CrossEntropyLoss, reduce=False))\n",
    "learn.metrics = [accuracy]\n",
    "# learn.opt_fn = partial(torch.optim.SGD, nesterov=True, momentum=0.9)\n",
    "\n",
    "learn.opt_fn = partial(optim.Adam, betas=(0.95,0.99))\n",
    "def_phase = {'opt_fn':learn.opt_fn, 'wds':wd, 'momentum':0.9}\n",
    "\n",
    "phases = [\n",
    "    TrainingPhase(**def_phase, epochs=15, lr=lrs[:2], lr_decay=DecayType.LINEAR, wd_loss=False),\n",
    "    TrainingPhase(**def_phase, epochs=15, lr=lrs[1:3], lr_decay=DecayType.LINEAR, wd_loss=False),\n",
    "    TrainingPhase(**def_phase, epochs=5, lr=lrs[-2:], lr_decay=DecayType.LINEAR, wd_loss=False),\n",
    "]\n",
    "\n",
    "learn.fit_opt_sched(phases)"
   ]
  },
  {
   "cell_type": "code",
   "execution_count": 30,
   "metadata": {},
   "outputs": [
    {
     "name": "stdout",
     "output_type": "stream",
     "text": [
      "Files already downloaded and verified\n",
      "Files already downloaded and verified\n"
     ]
    }
   ],
   "source": [
    "model = ResNet18()\n",
    "model = model.cuda()\n",
    "\n",
    "# model = network_to_half(model)\n",
    "\n",
    "# AS: todo: don't copy over weights as it seems to help performance\n",
    "\n",
    "wd=1e-4\n",
    "lr=1e-1\n",
    "momentum = 0.9\n",
    "# learn.clip = 1e-1\n",
    "bs = 256\n",
    "lrs = (0, 2e-3, 1e-4, 0)\n",
    "sz=32\n",
    "\n",
    "\n",
    "data = torch_loader(PATH, sz, bs, bs*2)\n",
    "mixup_dl = MixUpDataLoader(data.trn_dl, 0.6)\n",
    "    \n",
    "learn = Learner.from_model_data(model, data)\n",
    "learn.half()\n",
    "learn.data.trn_dl = mixup_dl\n",
    "learn.crit = MixUpLoss(partial(nn.CrossEntropyLoss, reduce=False))\n",
    "learn.metrics = [accuracy]\n",
    "# learn.opt_fn = partial(torch.optim.SGD, nesterov=True, momentum=0.9)\n",
    "\n",
    "learn.opt_fn = partial(optim.Adam, betas=(0.95,0.99))\n",
    "def_phase = {'opt_fn':learn.opt_fn, 'wds':wd}"
   ]
  },
  {
   "cell_type": "code",
   "execution_count": 28,
   "metadata": {},
   "outputs": [
    {
     "data": {
      "application/vnd.jupyter.widget-view+json": {
       "model_id": "dccaa5a75339471ea19772aeac943dde",
       "version_major": 2,
       "version_minor": 0
      },
      "text/plain": [
       "HBox(children=(IntProgress(value=0, description='Epoch', max=1), HTML(value='')))"
      ]
     },
     "metadata": {},
     "output_type": "display_data"
    },
    {
     "name": "stdout",
     "output_type": "stream",
     "text": [
      "                                                            \r"
     ]
    }
   ],
   "source": [
    "learn.lr_find()"
   ]
  },
  {
   "cell_type": "code",
   "execution_count": 29,
   "metadata": {},
   "outputs": [
    {
     "data": {
      "image/png": "[encoded data removed]",
      "text/plain": [
       "<Figure size 432x288 with 1 Axes>"
      ]
     },
     "metadata": {},
     "output_type": "display_data"
    }
   ],
   "source": [
    "learn.sched.plot()"
   ]
  },
  {
   "cell_type": "code",
   "execution_count": 31,
   "metadata": {},
   "outputs": [
    {
     "data": {
      "application/vnd.jupyter.widget-view+json": {
       "model_id": "dafe548262d14feca3dd9b65ce8661aa",
       "version_major": 2,
       "version_minor": 0
      },
      "text/plain": [
       "HBox(children=(IntProgress(value=0, description='Epoch', max=35), HTML(value='')))"
      ]
     },
     "metadata": {},
     "output_type": "display_data"
    },
    {
     "name": "stdout",
     "output_type": "stream",
     "text": [
      "epoch      trn_loss   val_loss   accuracy                   \n",
      "    0      2.034803   1.607208   0.4254    \n",
      "    1      1.791129   1.4785     0.4813                     \n",
      "    2      1.639594   1.141684   0.5963                     \n",
      "    3      1.551836   0.995409   0.661                      \n",
      "    4      1.483802   0.949103   0.6885                     \n",
      "    5      1.438598   0.73587    0.7622                     \n",
      "    6      1.393267   0.776724   0.75                       \n",
      "    7      1.365727   0.69194    0.78                       \n",
      "    8      1.343344   0.662018   0.7902                     \n",
      "    9      1.323702   0.657792   0.7974                     \n",
      "    10     1.312869   0.63128    0.7912                     \n",
      "    11     1.295111   0.626956   0.7985                     \n",
      "    12     1.265577   0.51227    0.8517                     \n",
      "    13     1.269983   0.522676   0.8464                     \n",
      "    14     1.250852   0.53137    0.8413                     \n",
      "    15     1.231268   0.495957   0.8567                     \n",
      "    16     1.206407   0.509833   0.8634                     \n",
      "    17     1.179515   0.440716   0.8669                     \n",
      "    18     1.15429    0.393257   0.8876                     \n",
      "    19     1.147747   0.41182    0.8862                     \n",
      "    20     1.134622   0.360271   0.8954                     \n",
      "    21     1.118328   0.374801   0.896                      \n",
      "    22     1.095706   0.368593   0.9027                     \n",
      "    23     1.085074   0.369369   0.9079                     \n",
      "    24     1.078917   0.339977   0.9107                     \n",
      "    25     1.060197   0.313143   0.9198                     \n",
      "    26     1.051093   0.320136   0.9208                     \n",
      "    27     1.040032   0.302509   0.9226                     \n",
      "    28     1.028761   0.294111   0.9245                     \n",
      "    29     1.021496   0.287578   0.9279                     \n",
      "    30     1.011881   0.284983   0.9277                     \n",
      "    31     1.019166   0.291453   0.9295                     \n",
      "    32     1.008514   0.282049   0.9298                     \n",
      "    33     1.017903   0.281287   0.9309                     \n",
      "    34     1.008291   0.278912   0.9309                     \n"
     ]
    },
    {
     "data": {
      "text/plain": [
       "[0.2789125, 0.930899999332428]"
      ]
     },
     "execution_count": 31,
     "metadata": {},
     "output_type": "execute_result"
    }
   ],
   "source": [
    "phases = [\n",
    "    TrainingPhase(**def_phase, epochs=15, lr=lrs[:2], lr_decay=DecayType.LINEAR, wd_loss=False),\n",
    "    TrainingPhase(**def_phase, epochs=15, lr=lrs[1:3], lr_decay=DecayType.LINEAR, wd_loss=False),\n",
    "    TrainingPhase(**def_phase, epochs=5, lr=lrs[-2:], lr_decay=DecayType.LINEAR, wd_loss=False),\n",
    "]\n",
    "\n",
    "learn.fit_opt_sched(phases)"
   ]
  },
  {
   "cell_type": "code",
   "execution_count": 33,
   "metadata": {},
   "outputs": [
    {
     "name": "stdout",
     "output_type": "stream",
     "text": [
      "Files already downloaded and verified\n",
      "Files already downloaded and verified\n"
     ]
    },
    {
     "data": {
      "application/vnd.jupyter.widget-view+json": {
       "model_id": "441b5cdbfca74cc0a1b2a48be363320a",
       "version_major": 2,
       "version_minor": 0
      },
      "text/plain": [
       "HBox(children=(IntProgress(value=0, description='Epoch', max=35), HTML(value='')))"
      ]
     },
     "metadata": {},
     "output_type": "display_data"
    },
    {
     "name": "stdout",
     "output_type": "stream",
     "text": [
      "epoch      trn_loss   val_loss   accuracy                   \n",
      "    0      2.121836   1.754028   0.352     \n",
      "    1      1.873292   1.372998   0.5145                     \n",
      "    2      1.693561   1.335194   0.5366                     \n",
      "    3      1.576514   1.131819   0.6077                     \n",
      "    4      1.481769   0.9215     0.6833                     \n",
      "    5      1.490514   0.810545   0.7316                     \n",
      "    6      1.48339    0.810693   0.7328                     \n",
      "    7      1.489809   0.807862   0.735                      \n",
      "    8      1.497329   0.81227    0.732                      \n",
      " 51%|█████     | 100/196 [00:04<00:03, 24.30it/s, loss=1.5]"
     ]
    },
    {
     "name": "stderr",
     "output_type": "stream",
     "text": [
      "Process Process-1477:\n"
     ]
    },
    {
     "ename": "KeyboardInterrupt",
     "evalue": "",
     "output_type": "error",
     "traceback": [
      "\u001b[0;31m---------------------------------------------------------------------------\u001b[0m",
      "\u001b[0;31mKeyboardInterrupt\u001b[0m                         Traceback (most recent call last)",
      "\u001b[0;32m<ipython-input-33-41eca77635e2>\u001b[0m in \u001b[0;36m<module>\u001b[0;34m()\u001b[0m\n\u001b[1;32m     36\u001b[0m ]\n\u001b[1;32m     37\u001b[0m \u001b[0;34m\u001b[0m\u001b[0m\n\u001b[0;32m---> 38\u001b[0;31m \u001b[0mlearn\u001b[0m\u001b[0;34m.\u001b[0m\u001b[0mfit_opt_sched\u001b[0m\u001b[0;34m(\u001b[0m\u001b[0mphases\u001b[0m\u001b[0;34m)\u001b[0m\u001b[0;34m\u001b[0m\u001b[0m\n\u001b[0m",
      "\u001b[0;32m~/anaconda3/envs/fastai/lib/python3.6/site-packages/fastai/learner.py\u001b[0m in \u001b[0;36mfit_opt_sched\u001b[0;34m(self, phases, cycle_save_name, best_save_name, stop_div, data_list, callbacks, cut, use_swa, swa_start, swa_eval_freq, **kwargs)\u001b[0m\n\u001b[1;32m    459\u001b[0m             \u001b[0mmetrics\u001b[0m\u001b[0;34m=\u001b[0m\u001b[0mmetrics\u001b[0m\u001b[0;34m,\u001b[0m \u001b[0mcallbacks\u001b[0m\u001b[0;34m=\u001b[0m\u001b[0mcallbacks\u001b[0m\u001b[0;34m,\u001b[0m \u001b[0mreg_fn\u001b[0m\u001b[0;34m=\u001b[0m\u001b[0mself\u001b[0m\u001b[0;34m.\u001b[0m\u001b[0mreg_fn\u001b[0m\u001b[0;34m,\u001b[0m \u001b[0mclip\u001b[0m\u001b[0;34m=\u001b[0m\u001b[0mself\u001b[0m\u001b[0;34m.\u001b[0m\u001b[0mclip\u001b[0m\u001b[0;34m,\u001b[0m \u001b[0mfp16\u001b[0m\u001b[0;34m=\u001b[0m\u001b[0mself\u001b[0m\u001b[0;34m.\u001b[0m\u001b[0mfp16\u001b[0m\u001b[0;34m,\u001b[0m\u001b[0;34m\u001b[0m\u001b[0m\n\u001b[1;32m    460\u001b[0m             \u001b[0mswa_model\u001b[0m\u001b[0;34m=\u001b[0m\u001b[0mself\u001b[0m\u001b[0;34m.\u001b[0m\u001b[0mswa_model\u001b[0m \u001b[0;32mif\u001b[0m \u001b[0muse_swa\u001b[0m \u001b[0;32melse\u001b[0m \u001b[0;32mNone\u001b[0m\u001b[0;34m,\u001b[0m \u001b[0mswa_start\u001b[0m\u001b[0;34m=\u001b[0m\u001b[0mswa_start\u001b[0m\u001b[0;34m,\u001b[0m\u001b[0;34m\u001b[0m\u001b[0m\n\u001b[0;32m--> 461\u001b[0;31m             swa_eval_freq=swa_eval_freq, **kwargs)\n\u001b[0m\u001b[1;32m    462\u001b[0m \u001b[0;34m\u001b[0m\u001b[0m\n\u001b[1;32m    463\u001b[0m     \u001b[0;32mdef\u001b[0m \u001b[0m_get_crit\u001b[0m\u001b[0;34m(\u001b[0m\u001b[0mself\u001b[0m\u001b[0;34m,\u001b[0m \u001b[0mdata\u001b[0m\u001b[0;34m)\u001b[0m\u001b[0;34m:\u001b[0m \u001b[0;32mreturn\u001b[0m \u001b[0mF\u001b[0m\u001b[0;34m.\u001b[0m\u001b[0mmse_loss\u001b[0m\u001b[0;34m\u001b[0m\u001b[0m\n",
      "\u001b[0;32m~/anaconda3/envs/fastai/lib/python3.6/site-packages/fastai/model.py\u001b[0m in \u001b[0;36mfit\u001b[0;34m(model, data, n_epochs, opt, crit, metrics, callbacks, stepper, swa_model, swa_start, swa_eval_freq, visualize, **kwargs)\u001b[0m\n\u001b[1;32m    139\u001b[0m             \u001b[0mbatch_num\u001b[0m \u001b[0;34m+=\u001b[0m \u001b[0;36m1\u001b[0m\u001b[0;34m\u001b[0m\u001b[0m\n\u001b[1;32m    140\u001b[0m             \u001b[0;32mfor\u001b[0m \u001b[0mcb\u001b[0m \u001b[0;32min\u001b[0m \u001b[0mcallbacks\u001b[0m\u001b[0;34m:\u001b[0m \u001b[0mcb\u001b[0m\u001b[0;34m.\u001b[0m\u001b[0mon_batch_begin\u001b[0m\u001b[0;34m(\u001b[0m\u001b[0;34m)\u001b[0m\u001b[0;34m\u001b[0m\u001b[0m\n\u001b[0;32m--> 141\u001b[0;31m             \u001b[0mloss\u001b[0m \u001b[0;34m=\u001b[0m \u001b[0mmodel_stepper\u001b[0m\u001b[0;34m.\u001b[0m\u001b[0mstep\u001b[0m\u001b[0;34m(\u001b[0m\u001b[0mV\u001b[0m\u001b[0;34m(\u001b[0m\u001b[0mx\u001b[0m\u001b[0;34m)\u001b[0m\u001b[0;34m,\u001b[0m\u001b[0mV\u001b[0m\u001b[0;34m(\u001b[0m\u001b[0my\u001b[0m\u001b[0;34m)\u001b[0m\u001b[0;34m,\u001b[0m \u001b[0mepoch\u001b[0m\u001b[0;34m)\u001b[0m\u001b[0;34m\u001b[0m\u001b[0m\n\u001b[0m\u001b[1;32m    142\u001b[0m             \u001b[0mavg_loss\u001b[0m \u001b[0;34m=\u001b[0m \u001b[0mavg_loss\u001b[0m \u001b[0;34m*\u001b[0m \u001b[0mavg_mom\u001b[0m \u001b[0;34m+\u001b[0m \u001b[0mloss\u001b[0m \u001b[0;34m*\u001b[0m \u001b[0;34m(\u001b[0m\u001b[0;36m1\u001b[0m\u001b[0;34m-\u001b[0m\u001b[0mavg_mom\u001b[0m\u001b[0;34m)\u001b[0m\u001b[0;34m\u001b[0m\u001b[0m\n\u001b[1;32m    143\u001b[0m             \u001b[0mdebias_loss\u001b[0m \u001b[0;34m=\u001b[0m \u001b[0mavg_loss\u001b[0m \u001b[0;34m/\u001b[0m \u001b[0;34m(\u001b[0m\u001b[0;36m1\u001b[0m \u001b[0;34m-\u001b[0m \u001b[0mavg_mom\u001b[0m\u001b[0;34m**\u001b[0m\u001b[0mbatch_num\u001b[0m\u001b[0;34m)\u001b[0m\u001b[0;34m\u001b[0m\u001b[0m\n",
      "\u001b[0;32m~/anaconda3/envs/fastai/lib/python3.6/site-packages/fastai/model.py\u001b[0m in \u001b[0;36mstep\u001b[0;34m(self, xs, y, epoch)\u001b[0m\n\u001b[1;32m     70\u001b[0m         \u001b[0mself\u001b[0m\u001b[0;34m.\u001b[0m\u001b[0mopt\u001b[0m\u001b[0;34m.\u001b[0m\u001b[0mstep\u001b[0m\u001b[0;34m(\u001b[0m\u001b[0;34m)\u001b[0m\u001b[0;34m\u001b[0m\u001b[0m\n\u001b[1;32m     71\u001b[0m         \u001b[0;32mif\u001b[0m \u001b[0mself\u001b[0m\u001b[0;34m.\u001b[0m\u001b[0mfp16\u001b[0m\u001b[0;34m:\u001b[0m\u001b[0;34m\u001b[0m\u001b[0m\n\u001b[0;32m---> 72\u001b[0;31m             \u001b[0mcopy_fp32_to_model\u001b[0m\u001b[0;34m(\u001b[0m\u001b[0mself\u001b[0m\u001b[0;34m.\u001b[0m\u001b[0mm\u001b[0m\u001b[0;34m,\u001b[0m \u001b[0mself\u001b[0m\u001b[0;34m.\u001b[0m\u001b[0mfp32_params\u001b[0m\u001b[0;34m)\u001b[0m\u001b[0;34m\u001b[0m\u001b[0m\n\u001b[0m\u001b[1;32m     73\u001b[0m             \u001b[0mtorch\u001b[0m\u001b[0;34m.\u001b[0m\u001b[0mcuda\u001b[0m\u001b[0;34m.\u001b[0m\u001b[0msynchronize\u001b[0m\u001b[0;34m(\u001b[0m\u001b[0;34m)\u001b[0m\u001b[0;34m\u001b[0m\u001b[0m\n\u001b[1;32m     74\u001b[0m         \u001b[0;32mreturn\u001b[0m \u001b[0mtorch_item\u001b[0m\u001b[0;34m(\u001b[0m\u001b[0mraw_loss\u001b[0m\u001b[0;34m.\u001b[0m\u001b[0mdata\u001b[0m\u001b[0;34m)\u001b[0m\u001b[0;34m\u001b[0m\u001b[0m\n",
      "\u001b[0;32m~/anaconda3/envs/fastai/lib/python3.6/site-packages/fastai/fp16.py\u001b[0m in \u001b[0;36mcopy_fp32_to_model\u001b[0;34m(m, fp32_params)\u001b[0m\n\u001b[1;32m     62\u001b[0m     \u001b[0;32massert\u001b[0m\u001b[0;34m(\u001b[0m\u001b[0mlen\u001b[0m\u001b[0;34m(\u001b[0m\u001b[0mm_params\u001b[0m\u001b[0;34m)\u001b[0m \u001b[0;34m==\u001b[0m \u001b[0mlen\u001b[0m\u001b[0;34m(\u001b[0m\u001b[0mfp32_params\u001b[0m\u001b[0;34m)\u001b[0m\u001b[0;34m)\u001b[0m\u001b[0;34m\u001b[0m\u001b[0m\n\u001b[1;32m     63\u001b[0m     \u001b[0;32mfor\u001b[0m \u001b[0mfp32_param\u001b[0m\u001b[0;34m,\u001b[0m \u001b[0mm_param\u001b[0m \u001b[0;32min\u001b[0m \u001b[0mzip\u001b[0m\u001b[0;34m(\u001b[0m\u001b[0mfp32_params\u001b[0m\u001b[0;34m,\u001b[0m \u001b[0mm_params\u001b[0m\u001b[0;34m)\u001b[0m\u001b[0;34m:\u001b[0m\u001b[0;34m\u001b[0m\u001b[0m\n\u001b[0;32m---> 64\u001b[0;31m         \u001b[0mm_param\u001b[0m\u001b[0;34m.\u001b[0m\u001b[0mdata\u001b[0m\u001b[0;34m.\u001b[0m\u001b[0mcopy_\u001b[0m\u001b[0;34m(\u001b[0m\u001b[0mfp32_param\u001b[0m\u001b[0;34m.\u001b[0m\u001b[0mdata\u001b[0m\u001b[0;34m)\u001b[0m\u001b[0;34m\u001b[0m\u001b[0m\n\u001b[0m\u001b[1;32m     65\u001b[0m \u001b[0;34m\u001b[0m\u001b[0m\n\u001b[1;32m     66\u001b[0m \u001b[0;32mdef\u001b[0m \u001b[0mupdate_fp32_grads\u001b[0m\u001b[0;34m(\u001b[0m\u001b[0mfp32_params\u001b[0m\u001b[0;34m,\u001b[0m \u001b[0mm\u001b[0m\u001b[0;34m)\u001b[0m\u001b[0;34m:\u001b[0m\u001b[0;34m\u001b[0m\u001b[0m\n",
      "\u001b[0;31mKeyboardInterrupt\u001b[0m: "
     ]
    },
    {
     "name": "stderr",
     "output_type": "stream",
     "text": [
      "Process Process-1475:\n",
      "Traceback (most recent call last):\n",
      "Process Process-1476:\n",
      "Process Process-1473:\n",
      "Process Process-1472:\n",
      "Process Process-1471:\n",
      "  File \"/home/paperspace/anaconda3/envs/fastai/lib/python3.6/multiprocessing/process.py\", line 258, in _bootstrap\n",
      "    self.run()\n",
      "Process Process-1474:\n",
      "Traceback (most recent call last):\n",
      "  File \"/home/paperspace/anaconda3/envs/fastai/lib/python3.6/multiprocessing/process.py\", line 93, in run\n",
      "    self._target(*self._args, **self._kwargs)\n",
      "Traceback (most recent call last):\n",
      "Traceback (most recent call last):\n",
      "Traceback (most recent call last):\n",
      "  File \"/home/paperspace/anaconda3/envs/fastai/lib/python3.6/site-packages/torch/utils/data/dataloader.py\", line 52, in _worker_loop\n",
      "    r = index_queue.get()\n",
      "Traceback (most recent call last):\n",
      "  File \"/home/paperspace/anaconda3/envs/fastai/lib/python3.6/multiprocessing/process.py\", line 258, in _bootstrap\n",
      "    self.run()\n",
      "  File \"/home/paperspace/anaconda3/envs/fastai/lib/python3.6/multiprocessing/process.py\", line 258, in _bootstrap\n",
      "    self.run()\n",
      "  File \"/home/paperspace/anaconda3/envs/fastai/lib/python3.6/multiprocessing/process.py\", line 258, in _bootstrap\n",
      "    self.run()\n",
      "  File \"/home/paperspace/anaconda3/envs/fastai/lib/python3.6/multiprocessing/queues.py\", line 335, in get\n",
      "    res = self._reader.recv_bytes()\n",
      "  File \"/home/paperspace/anaconda3/envs/fastai/lib/python3.6/multiprocessing/process.py\", line 93, in run\n",
      "    self._target(*self._args, **self._kwargs)\n",
      "Traceback (most recent call last):\n",
      "  File \"/home/paperspace/anaconda3/envs/fastai/lib/python3.6/site-packages/PIL/Image.py\", line 429, in _getdecoder\n",
      "    decoder = DECODERS[decoder_name]\n",
      "  File \"/home/paperspace/anaconda3/envs/fastai/lib/python3.6/multiprocessing/process.py\", line 258, in _bootstrap\n",
      "    self.run()\n",
      "  File \"/home/paperspace/anaconda3/envs/fastai/lib/python3.6/multiprocessing/process.py\", line 93, in run\n",
      "    self._target(*self._args, **self._kwargs)\n",
      "  File \"/home/paperspace/anaconda3/envs/fastai/lib/python3.6/multiprocessing/process.py\", line 258, in _bootstrap\n",
      "    self.run()\n",
      "  File \"/home/paperspace/anaconda3/envs/fastai/lib/python3.6/site-packages/torch/utils/data/dataloader.py\", line 52, in _worker_loop\n",
      "    r = index_queue.get()\n",
      "  File \"/home/paperspace/anaconda3/envs/fastai/lib/python3.6/multiprocessing/connection.py\", line 216, in recv_bytes\n",
      "    buf = self._recv_bytes(maxlength)\n",
      "  File \"/home/paperspace/anaconda3/envs/fastai/lib/python3.6/multiprocessing/process.py\", line 93, in run\n",
      "    self._target(*self._args, **self._kwargs)\n",
      "KeyError: 'raw'\n",
      "  File \"/home/paperspace/anaconda3/envs/fastai/lib/python3.6/multiprocessing/process.py\", line 93, in run\n",
      "    self._target(*self._args, **self._kwargs)\n",
      "  File \"/home/paperspace/anaconda3/envs/fastai/lib/python3.6/multiprocessing/process.py\", line 93, in run\n",
      "    self._target(*self._args, **self._kwargs)\n",
      "  File \"/home/paperspace/anaconda3/envs/fastai/lib/python3.6/site-packages/torch/utils/data/dataloader.py\", line 52, in _worker_loop\n",
      "    r = index_queue.get()\n",
      "  File \"/home/paperspace/anaconda3/envs/fastai/lib/python3.6/multiprocessing/connection.py\", line 407, in _recv_bytes\n",
      "    buf = self._recv(4)\n",
      "  File \"/home/paperspace/anaconda3/envs/fastai/lib/python3.6/site-packages/torch/utils/data/dataloader.py\", line 52, in _worker_loop\n",
      "    r = index_queue.get()\n",
      "  File \"/home/paperspace/anaconda3/envs/fastai/lib/python3.6/site-packages/torch/utils/data/dataloader.py\", line 57, in _worker_loop\n",
      "    samples = collate_fn([dataset[i] for i in batch_indices])\n",
      "  File \"/home/paperspace/anaconda3/envs/fastai/lib/python3.6/multiprocessing/connection.py\", line 379, in _recv\n",
      "    chunk = read(handle, remaining)\n",
      "  File \"/home/paperspace/anaconda3/envs/fastai/lib/python3.6/multiprocessing/queues.py\", line 335, in get\n",
      "    res = self._reader.recv_bytes()\n",
      "  File \"/home/paperspace/anaconda3/envs/fastai/lib/python3.6/multiprocessing/queues.py\", line 335, in get\n",
      "    res = self._reader.recv_bytes()\n",
      "  File \"/home/paperspace/anaconda3/envs/fastai/lib/python3.6/multiprocessing/queues.py\", line 335, in get\n",
      "    res = self._reader.recv_bytes()\n",
      "\n",
      "During handling of the above exception, another exception occurred:\n",
      "\n",
      "  File \"/home/paperspace/anaconda3/envs/fastai/lib/python3.6/site-packages/torch/utils/data/dataloader.py\", line 57, in <listcomp>\n",
      "    samples = collate_fn([dataset[i] for i in batch_indices])\n",
      "  File \"/home/paperspace/anaconda3/envs/fastai/lib/python3.6/site-packages/torch/utils/data/dataloader.py\", line 57, in _worker_loop\n",
      "    samples = collate_fn([dataset[i] for i in batch_indices])\n",
      "  File \"/home/paperspace/anaconda3/envs/fastai/lib/python3.6/multiprocessing/connection.py\", line 216, in recv_bytes\n",
      "    buf = self._recv_bytes(maxlength)\n",
      "  File \"/home/paperspace/anaconda3/envs/fastai/lib/python3.6/multiprocessing/connection.py\", line 216, in recv_bytes\n",
      "    buf = self._recv_bytes(maxlength)\n",
      "Traceback (most recent call last):\n",
      "  File \"/home/paperspace/anaconda3/envs/fastai/lib/python3.6/site-packages/torch/utils/data/dataloader.py\", line 57, in <listcomp>\n",
      "    samples = collate_fn([dataset[i] for i in batch_indices])\n",
      "  File \"/home/paperspace/anaconda3/envs/fastai/lib/python3.6/site-packages/torchvision/datasets/cifar.py\", line 121, in __getitem__\n",
      "    img = self.transform(img)\n",
      "  File \"/home/paperspace/anaconda3/envs/fastai/lib/python3.6/multiprocessing/connection.py\", line 407, in _recv_bytes\n",
      "    buf = self._recv(4)\n",
      "  File \"/home/paperspace/anaconda3/envs/fastai/lib/python3.6/multiprocessing/connection.py\", line 407, in _recv_bytes\n",
      "    buf = self._recv(4)\n",
      "  File \"/home/paperspace/anaconda3/envs/fastai/lib/python3.6/multiprocessing/connection.py\", line 216, in recv_bytes\n",
      "    buf = self._recv_bytes(maxlength)\n",
      "KeyboardInterrupt\n",
      "KeyboardInterrupt\n",
      "  File \"/home/paperspace/anaconda3/envs/fastai/lib/python3.6/site-packages/torchvision/transforms/transforms.py\", line 49, in __call__\n",
      "    img = t(img)\n",
      "  File \"/home/paperspace/anaconda3/envs/fastai/lib/python3.6/site-packages/torchvision/datasets/cifar.py\", line 121, in __getitem__\n",
      "    img = self.transform(img)\n",
      "  File \"/home/paperspace/anaconda3/envs/fastai/lib/python3.6/multiprocessing/connection.py\", line 379, in _recv\n",
      "    chunk = read(handle, remaining)\n",
      "  File \"/home/paperspace/anaconda3/envs/fastai/lib/python3.6/multiprocessing/connection.py\", line 379, in _recv\n",
      "    chunk = read(handle, remaining)\n",
      "  File \"<ipython-input-6-10ee7b0e9c2e>\", line 5, in pad\n",
      "    return Image.fromarray(np.pad(np.asarray(img), ((p, p), (p, p), (0, 0)), padding_mode))\n",
      "  File \"/home/paperspace/anaconda3/envs/fastai/lib/python3.6/site-packages/torchvision/transforms/transforms.py\", line 49, in __call__\n",
      "    img = t(img)\n",
      "KeyboardInterrupt\n",
      "  File \"/home/paperspace/anaconda3/envs/fastai/lib/python3.6/site-packages/numpy/lib/arraypad.py\", line 1313, in pad\n",
      "    'wrap': [],\n",
      "KeyboardInterrupt\n",
      "  File \"/home/paperspace/cluster/pytorch-cifar/autoaugment.py\", line 111, in __call__\n",
      "    return self.policies[policy_idx](img)\n",
      "KeyboardInterrupt\n",
      "  File \"/home/paperspace/cluster/pytorch-cifar/autoaugment.py\", line 237, in __call__\n",
      "    if random.random() < self.p1: img = self.operation1(img, self.magnitude1)\n",
      "  File \"/home/paperspace/cluster/pytorch-cifar/autoaugment.py\", line 220, in <lambda>\n",
      "    \"autocontrast\": lambda img, magnitude: ImageOps.autocontrast(img),\n",
      "  File \"/home/paperspace/anaconda3/envs/fastai/lib/python3.6/site-packages/PIL/ImageOps.py\", line 130, in autocontrast\n",
      "    ix = int(ix * scale + offset)\n",
      "  File \"/home/paperspace/anaconda3/envs/fastai/lib/python3.6/multiprocessing/connection.py\", line 407, in _recv_bytes\n",
      "    buf = self._recv(4)\n",
      "  File \"/home/paperspace/anaconda3/envs/fastai/lib/python3.6/multiprocessing/process.py\", line 258, in _bootstrap\n",
      "    self.run()\n",
      "  File \"/home/paperspace/anaconda3/envs/fastai/lib/python3.6/multiprocessing/connection.py\", line 379, in _recv\n",
      "    chunk = read(handle, remaining)\n",
      "KeyboardInterrupt\n",
      "  File \"/home/paperspace/anaconda3/envs/fastai/lib/python3.6/multiprocessing/process.py\", line 93, in run\n",
      "    self._target(*self._args, **self._kwargs)\n",
      "  File \"/home/paperspace/anaconda3/envs/fastai/lib/python3.6/site-packages/torch/utils/data/dataloader.py\", line 57, in _worker_loop\n",
      "    samples = collate_fn([dataset[i] for i in batch_indices])\n"
     ]
    }
   ],
   "source": [
    "model = ResNet18()\n",
    "model = model.cuda()\n",
    "\n",
    "# model = network_to_half(model)\n",
    "\n",
    "# AS: todo: don't copy over weights as it seems to help performance\n",
    "\n",
    "wd=1e-4\n",
    "lr=1e-1\n",
    "momentum = 0.9\n",
    "# learn.clip = 1e-1\n",
    "bs = 256\n",
    "lrs = (0, 2e-3, 1e-4, 0)\n",
    "sz=32\n",
    "\n",
    "\n",
    "data = torch_loader(PATH, sz, bs, bs*2)\n",
    "mixup_dl = MixUpDataLoader(data.trn_dl, 0.6)\n",
    "    \n",
    "learn = Learner.from_model_data(model, data)\n",
    "learn.half()\n",
    "learn.data.trn_dl = mixup_dl\n",
    "learn.crit = MixUpLoss(partial(nn.CrossEntropyLoss, reduce=False))\n",
    "learn.metrics = [accuracy]\n",
    "# learn.opt_fn = partial(torch.optim.SGD, nesterov=True, momentum=0.9)\n",
    "\n",
    "learn.opt_fn = partial(optim.Adam, betas=(0.95,0.99))\n",
    "\n",
    "def_phase = {'opt_fn':learn.opt_fn, 'wds':wd}\n",
    "phases = [\n",
    "    TrainingPhase(opt_fn=partial(torch.optim.SGD, nesterov=True, momentum=0.9), wds=wd, epochs=5, lr=(0,2e-2), lr_decay=DecayType.LINEAR, wd_loss=False),\n",
    "#     TrainingPhase(opt_fn=partial(torch.optim.SGD, nesterov=True, momentum=0.9), wds=wd, epochs=15, lr=(0,2e-1), lr_decay=DecayType.LINEAR, wd_loss=False),\n",
    "    TrainingPhase(**def_phase, epochs=10, lr=(2e-4,2e-3), lr_decay=DecayType.LINEAR, wd_loss=False),\n",
    "    TrainingPhase(**def_phase, epochs=15, lr=lrs[1:3], lr_decay=DecayType.LINEAR, wd_loss=False),\n",
    "    TrainingPhase(**def_phase, epochs=5, lr=lrs[-2:], lr_decay=DecayType.LINEAR, wd_loss=False),\n",
    "]\n",
    "\n",
    "learn.fit_opt_sched(phases)"
   ]
  },
  {
   "cell_type": "code",
   "execution_count": null,
   "metadata": {},
   "outputs": [],
   "source": []
  }
 ],
 "metadata": {
  "kernelspec": {
   "display_name": "Python 3",
   "language": "python",
   "name": "python3"
  },
  "language_info": {
   "codemirror_mode": {
    "name": "ipython",
    "version": 3
   },
   "file_extension": ".py",
   "mimetype": "text/x-python",
   "name": "python",
   "nbconvert_exporter": "python",
   "pygments_lexer": "ipython3",
   "version": "3.6.5"
  }
 },
 "nbformat": 4,
 "nbformat_minor": 2
}
