{
 "cells": [
  {
   "cell_type": "code",
   "execution_count": 1,
   "metadata": {},
   "outputs": [],
   "source": [
    "%load_ext autoreload\n",
    "%autoreload 2"
   ]
  },
  {
   "cell_type": "code",
   "execution_count": 2,
   "metadata": {},
   "outputs": [],
   "source": [
    "import boto3"
   ]
  },
  {
   "cell_type": "code",
   "execution_count": 3,
   "metadata": {},
   "outputs": [],
   "source": [
    "import util as u"
   ]
  },
  {
   "cell_type": "code",
   "execution_count": 4,
   "metadata": {},
   "outputs": [],
   "source": [
    "ec2 = u.create_ec2_resource()"
   ]
  },
  {
   "cell_type": "code",
   "execution_count": 6,
   "metadata": {},
   "outputs": [],
   "source": [
    "# session = boto3.Session(profile_name='diux')\n",
    "\n",
    "# ec2 = session.resource('ec2')\n",
    "# ec2c = session.client('ec2')"
   ]
  },
  {
   "cell_type": "markdown",
   "metadata": {},
   "source": [
    "### VPC Data"
   ]
  },
  {
   "cell_type": "code",
   "execution_count": 72,
   "metadata": {},
   "outputs": [],
   "source": [
    "vpcs = list(ec2.vpcs.all())"
   ]
  },
  {
   "cell_type": "code",
   "execution_count": 73,
   "metadata": {},
   "outputs": [
    {
     "data": {
      "text/plain": [
       "[[{'Key': 'Name', 'Value': '282e747a-pachydermcluster.kubernetes.com'},\n",
       "  {'Key': 'kubernetes.io/cluster/282e747a-pachydermcluster.kubernetes.com',\n",
       "   'Value': 'owned'},\n",
       "  {'Key': 'KubernetesCluster',\n",
       "   'Value': '282e747a-pachydermcluster.kubernetes.com'}],\n",
       " None,\n",
       " [{'Key': 'Name', 'Value': 'nexus'}],\n",
       " [{'Key': 'Name', 'Value': 'brendan'}],\n",
       " [{'Key': 'KubernetesCluster',\n",
       "   'Value': '0726aa4c-pachydermcluster.kubernetes.com'},\n",
       "  {'Key': 'Name', 'Value': '0726aa4c-pachydermcluster.kubernetes.com'},\n",
       "  {'Key': 'kubernetes.io/cluster/0726aa4c-pachydermcluster.kubernetes.com',\n",
       "   'Value': 'owned'}],\n",
       " [{'Key': 'Name', 'Value': 'nexusbrett'}]]"
      ]
     },
     "execution_count": 73,
     "metadata": {},
     "output_type": "execute_result"
    }
   ],
   "source": [
    "[v.tags for v in vpcs]"
   ]
  },
  {
   "cell_type": "code",
   "execution_count": 74,
   "metadata": {},
   "outputs": [
    {
     "data": {
      "text/plain": [
       "[ec2.KeyPairInfo(name='aws_pach_api_service'),\n",
       " ec2.KeyPairInfo(name='aws_pach_api_service_prod'),\n",
       " ec2.KeyPairInfo(name='aws_pach_api_service_stage'),\n",
       " ec2.KeyPairInfo(name='brendan'),\n",
       " ec2.KeyPairInfo(name='nexus'),\n",
       " ec2.KeyPairInfo(name='nexus-andrewshaw'),\n",
       " ec2.KeyPairInfo(name='nexus-oregon'),\n",
       " ec2.KeyPairInfo(name='nexus-ubuntu'),\n",
       " ec2.KeyPairInfo(name='nexus-wyx'),\n",
       " ec2.KeyPairInfo(name='nexus-yaroslav'),\n",
       " ec2.KeyPairInfo(name='nexusbrett-skoonce'),\n",
       " ec2.KeyPairInfo(name='pach_service_stage'),\n",
       " ec2.KeyPairInfo(name='ray-autoscaler'),\n",
       " ec2.KeyPairInfo(name='yaroslav')]"
      ]
     },
     "execution_count": 74,
     "metadata": {},
     "output_type": "execute_result"
    }
   ],
   "source": [
    "kps = list(ec2.key_pairs.all()); kps"
   ]
  },
  {
   "cell_type": "code",
   "execution_count": 10,
   "metadata": {},
   "outputs": [
    {
     "data": {
      "text/plain": [
       "[{'Key': 'Name', 'Value': 'as_nexus'}]"
      ]
     },
     "execution_count": 10,
     "metadata": {},
     "output_type": "execute_result"
    }
   ],
   "source": [
    "as_vpc.tags"
   ]
  },
  {
   "cell_type": "code",
   "execution_count": 27,
   "metadata": {},
   "outputs": [],
   "source": [
    "rt = list(as_vpc.route_tables.all())[0]"
   ]
  },
  {
   "cell_type": "code",
   "execution_count": 32,
   "metadata": {},
   "outputs": [],
   "source": [
    "sg = list(as_vpc.security_groups.all())[0]"
   ]
  },
  {
   "cell_type": "code",
   "execution_count": 35,
   "metadata": {},
   "outputs": [],
   "source": [
    "ig = list(as_vpc.internet_gateways.all())[0]"
   ]
  },
  {
   "cell_type": "markdown",
   "metadata": {},
   "source": [
    "### Spot requests"
   ]
  },
  {
   "cell_type": "code",
   "execution_count": 93,
   "metadata": {},
   "outputs": [],
   "source": [
    "client = u.create_ec2_client()"
   ]
  },
  {
   "cell_type": "code",
   "execution_count": 94,
   "metadata": {},
   "outputs": [
    {
     "data": {
      "text/plain": [
       "{'SpotInstanceRequests': [{'CreateTime': datetime.datetime(2018, 7, 2, 4, 2, 25, tzinfo=tzutc()),\n",
       "   'InstanceId': 'i-0c06d407b331cabd3',\n",
       "   'LaunchSpecification': {'SecurityGroups': [{'GroupName': 'default'}],\n",
       "    'BlockDeviceMappings': [{'DeviceName': '/dev/sda1',\n",
       "      'Ebs': {'DeleteOnTermination': True,\n",
       "       'Iops': 8000,\n",
       "       'VolumeSize': 300,\n",
       "       'VolumeType': 'io1'}}],\n",
       "    'ImageId': 'ami-e580c79d',\n",
       "    'InstanceType': 'p3.16xlarge',\n",
       "    'KeyName': 'nexus-andrewshaw',\n",
       "    'NetworkInterfaces': [{'AssociatePublicIpAddress': True,\n",
       "      'DeviceIndex': 0,\n",
       "      'SubnetId': 'subnet-e1ee1fbb'}],\n",
       "    'Placement': {'AvailabilityZone': 'us-west-2c',\n",
       "     'GroupName': 'pytorch_cluster_c'},\n",
       "    'Monitoring': {'Enabled': False}},\n",
       "   'LaunchedAvailabilityZone': 'us-west-2c',\n",
       "   'ProductDescription': 'Linux/UNIX',\n",
       "   'SpotInstanceRequestId': 'sir-v3689itp',\n",
       "   'SpotPrice': '25.000000',\n",
       "   'State': 'closed',\n",
       "   'Status': {'Code': 'instance-terminated-by-user',\n",
       "    'Message': '2018-07-02T04:02:28+0000 : 2018-07-02T04:02:28+0000 : Spot Instance terminated due to user-initiated termination.',\n",
       "    'UpdateTime': datetime.datetime(2018, 7, 2, 4, 4, tzinfo=tzutc())},\n",
       "   'Type': 'one-time',\n",
       "   'ValidUntil': datetime.datetime(2018, 7, 9, 4, 2, 25, tzinfo=tzutc()),\n",
       "   'InstanceInterruptionBehavior': 'terminate'},\n",
       "  {'CreateTime': datetime.datetime(2018, 7, 2, 4, 5, 34, tzinfo=tzutc()),\n",
       "   'InstanceId': 'i-021b1a9f03534a422',\n",
       "   'LaunchSpecification': {'SecurityGroups': [{'GroupName': 'default'}],\n",
       "    'BlockDeviceMappings': [{'DeviceName': '/dev/sda1',\n",
       "      'Ebs': {'DeleteOnTermination': True,\n",
       "       'Iops': 14000,\n",
       "       'VolumeSize': 1000,\n",
       "       'VolumeType': 'io1'}}],\n",
       "    'ImageId': 'ami-53c8822b',\n",
       "    'InstanceType': 'p3.16xlarge',\n",
       "    'KeyName': 'nexus-andrewshaw',\n",
       "    'NetworkInterfaces': [{'AssociatePublicIpAddress': True,\n",
       "      'DeviceIndex': 0,\n",
       "      'SubnetId': 'subnet-42300a24'}],\n",
       "    'Placement': {'AvailabilityZone': 'us-west-2b',\n",
       "     'GroupName': 'pytorch_cluster_b'},\n",
       "    'Monitoring': {'Enabled': False}},\n",
       "   'LaunchedAvailabilityZone': 'us-west-2b',\n",
       "   'ProductDescription': 'Linux/UNIX',\n",
       "   'SpotInstanceRequestId': 'sir-x3gr928p',\n",
       "   'SpotPrice': '25.000000',\n",
       "   'State': 'closed',\n",
       "   'Status': {'Code': 'instance-terminated-by-user',\n",
       "    'Message': '2018-07-02T04:05:37+0000 : 2018-07-02T04:05:37+0000 : Spot Instance terminated due to user-initiated termination.',\n",
       "    'UpdateTime': datetime.datetime(2018, 7, 2, 4, 6, 59, tzinfo=tzutc())},\n",
       "   'Type': 'one-time',\n",
       "   'ValidUntil': datetime.datetime(2018, 7, 9, 4, 5, 34, tzinfo=tzutc()),\n",
       "   'InstanceInterruptionBehavior': 'terminate'},\n",
       "  {'CreateTime': datetime.datetime(2018, 7, 2, 4, 57, 1, tzinfo=tzutc()),\n",
       "   'InstanceId': 'i-0ede35f9c27b987b3',\n",
       "   'LaunchSpecification': {'SecurityGroups': [{'GroupName': 'default'}],\n",
       "    'BlockDeviceMappings': [{'DeviceName': '/dev/sda1',\n",
       "      'Ebs': {'DeleteOnTermination': True,\n",
       "       'Iops': 14000,\n",
       "       'VolumeSize': 1000,\n",
       "       'VolumeType': 'io1'}}],\n",
       "    'ImageId': 'ami-53c8822b',\n",
       "    'InstanceType': 'p3.16xlarge',\n",
       "    'KeyName': 'nexus-andrewshaw',\n",
       "    'NetworkInterfaces': [{'AssociatePublicIpAddress': True,\n",
       "      'DeviceIndex': 0,\n",
       "      'SubnetId': 'subnet-42300a24'}],\n",
       "    'Placement': {'AvailabilityZone': 'us-west-2b',\n",
       "     'GroupName': 'pytorch_cluster_b'},\n",
       "    'Monitoring': {'Enabled': False}},\n",
       "   'LaunchedAvailabilityZone': 'us-west-2b',\n",
       "   'ProductDescription': 'Linux/UNIX',\n",
       "   'SpotInstanceRequestId': 'sir-4zpi9t1q',\n",
       "   'SpotPrice': '25.000000',\n",
       "   'State': 'closed',\n",
       "   'Status': {'Code': 'instance-terminated-by-user',\n",
       "    'Message': '2018-07-02T04:57:04+0000 : 2018-07-02T04:57:04+0000 : Spot Instance terminated due to user-initiated termination.',\n",
       "    'UpdateTime': datetime.datetime(2018, 7, 2, 4, 58, 39, tzinfo=tzutc())},\n",
       "   'Type': 'one-time',\n",
       "   'ValidUntil': datetime.datetime(2018, 7, 9, 4, 57, 1, tzinfo=tzutc()),\n",
       "   'InstanceInterruptionBehavior': 'terminate'},\n",
       "  {'CreateTime': datetime.datetime(2018, 7, 2, 4, 2, 25, tzinfo=tzutc()),\n",
       "   'LaunchSpecification': {'SecurityGroups': [{'GroupName': 'default'}],\n",
       "    'BlockDeviceMappings': [{'DeviceName': '/dev/sda1',\n",
       "      'Ebs': {'DeleteOnTermination': True,\n",
       "       'Iops': 8000,\n",
       "       'VolumeSize': 300,\n",
       "       'VolumeType': 'io1'}}],\n",
       "    'ImageId': 'ami-e580c79d',\n",
       "    'InstanceType': 'p3.16xlarge',\n",
       "    'KeyName': 'nexus-andrewshaw',\n",
       "    'NetworkInterfaces': [{'AssociatePublicIpAddress': True,\n",
       "      'DeviceIndex': 0,\n",
       "      'SubnetId': 'subnet-e1ee1fbb'}],\n",
       "    'Placement': {'AvailabilityZone': 'us-west-2c',\n",
       "     'GroupName': 'pytorch_cluster_c'},\n",
       "    'Monitoring': {'Enabled': False}},\n",
       "   'ProductDescription': 'Linux/UNIX',\n",
       "   'SpotInstanceRequestId': 'sir-r7w8bgzn',\n",
       "   'SpotPrice': '25.000000',\n",
       "   'State': 'cancelled',\n",
       "   'Status': {'Code': 'canceled-before-fulfillment',\n",
       "    'Message': 'Your Spot request is canceled before it was fulfilled.',\n",
       "    'UpdateTime': datetime.datetime(2018, 7, 2, 4, 2, 52, tzinfo=tzutc())},\n",
       "   'Type': 'one-time',\n",
       "   'ValidUntil': datetime.datetime(2018, 7, 9, 4, 2, 25, tzinfo=tzutc()),\n",
       "   'InstanceInterruptionBehavior': 'terminate'},\n",
       "  {'CreateTime': datetime.datetime(2018, 7, 2, 4, 5, 34, tzinfo=tzutc()),\n",
       "   'InstanceId': 'i-0339dcb5f7422ec8e',\n",
       "   'LaunchSpecification': {'SecurityGroups': [{'GroupName': 'default'}],\n",
       "    'BlockDeviceMappings': [{'DeviceName': '/dev/sda1',\n",
       "      'Ebs': {'DeleteOnTermination': True,\n",
       "       'Iops': 14000,\n",
       "       'VolumeSize': 1000,\n",
       "       'VolumeType': 'io1'}}],\n",
       "    'ImageId': 'ami-53c8822b',\n",
       "    'InstanceType': 'p3.16xlarge',\n",
       "    'KeyName': 'nexus-andrewshaw',\n",
       "    'NetworkInterfaces': [{'AssociatePublicIpAddress': True,\n",
       "      'DeviceIndex': 0,\n",
       "      'SubnetId': 'subnet-42300a24'}],\n",
       "    'Placement': {'AvailabilityZone': 'us-west-2b',\n",
       "     'GroupName': 'pytorch_cluster_b'},\n",
       "    'Monitoring': {'Enabled': False}},\n",
       "   'LaunchedAvailabilityZone': 'us-west-2b',\n",
       "   'ProductDescription': 'Linux/UNIX',\n",
       "   'SpotInstanceRequestId': 'sir-pj1i81fp',\n",
       "   'SpotPrice': '25.000000',\n",
       "   'State': 'closed',\n",
       "   'Status': {'Code': 'instance-terminated-by-user',\n",
       "    'Message': '2018-07-02T04:05:37+0000 : 2018-07-02T04:05:37+0000 : Spot Instance terminated due to user-initiated termination.',\n",
       "    'UpdateTime': datetime.datetime(2018, 7, 2, 4, 6, 59, tzinfo=tzutc())},\n",
       "   'Type': 'one-time',\n",
       "   'ValidUntil': datetime.datetime(2018, 7, 9, 4, 5, 34, tzinfo=tzutc()),\n",
       "   'InstanceInterruptionBehavior': 'terminate'},\n",
       "  {'CreateTime': datetime.datetime(2018, 7, 2, 4, 5, 34, tzinfo=tzutc()),\n",
       "   'InstanceId': 'i-06cc0bd230a7d804e',\n",
       "   'LaunchSpecification': {'SecurityGroups': [{'GroupName': 'default'}],\n",
       "    'BlockDeviceMappings': [{'DeviceName': '/dev/sda1',\n",
       "      'Ebs': {'DeleteOnTermination': True,\n",
       "       'Iops': 14000,\n",
       "       'VolumeSize': 1000,\n",
       "       'VolumeType': 'io1'}}],\n",
       "    'ImageId': 'ami-53c8822b',\n",
       "    'InstanceType': 'p3.16xlarge',\n",
       "    'KeyName': 'nexus-andrewshaw',\n",
       "    'NetworkInterfaces': [{'AssociatePublicIpAddress': True,\n",
       "      'DeviceIndex': 0,\n",
       "      'SubnetId': 'subnet-42300a24'}],\n",
       "    'Placement': {'AvailabilityZone': 'us-west-2b',\n",
       "     'GroupName': 'pytorch_cluster_b'},\n",
       "    'Monitoring': {'Enabled': False}},\n",
       "   'LaunchedAvailabilityZone': 'us-west-2b',\n",
       "   'ProductDescription': 'Linux/UNIX',\n",
       "   'SpotInstanceRequestId': 'sir-c1188b5m',\n",
       "   'SpotPrice': '25.000000',\n",
       "   'State': 'closed',\n",
       "   'Status': {'Code': 'instance-terminated-by-user',\n",
       "    'Message': '2018-07-02T04:05:37+0000 : 2018-07-02T04:05:37+0000 : Spot Instance terminated due to user-initiated termination.',\n",
       "    'UpdateTime': datetime.datetime(2018, 7, 2, 4, 6, 59, tzinfo=tzutc())},\n",
       "   'Type': 'one-time',\n",
       "   'ValidUntil': datetime.datetime(2018, 7, 9, 4, 5, 34, tzinfo=tzutc()),\n",
       "   'InstanceInterruptionBehavior': 'terminate'},\n",
       "  {'CreateTime': datetime.datetime(2018, 7, 2, 4, 5, 34, tzinfo=tzutc()),\n",
       "   'InstanceId': 'i-03fa5d32ea01ed747',\n",
       "   'LaunchSpecification': {'SecurityGroups': [{'GroupName': 'default'}],\n",
       "    'BlockDeviceMappings': [{'DeviceName': '/dev/sda1',\n",
       "      'Ebs': {'DeleteOnTermination': True,\n",
       "       'Iops': 14000,\n",
       "       'VolumeSize': 1000,\n",
       "       'VolumeType': 'io1'}}],\n",
       "    'ImageId': 'ami-53c8822b',\n",
       "    'InstanceType': 'p3.16xlarge',\n",
       "    'KeyName': 'nexus-andrewshaw',\n",
       "    'NetworkInterfaces': [{'AssociatePublicIpAddress': True,\n",
       "      'DeviceIndex': 0,\n",
       "      'SubnetId': 'subnet-42300a24'}],\n",
       "    'Placement': {'AvailabilityZone': 'us-west-2b',\n",
       "     'GroupName': 'pytorch_cluster_b'},\n",
       "    'Monitoring': {'Enabled': False}},\n",
       "   'LaunchedAvailabilityZone': 'us-west-2b',\n",
       "   'ProductDescription': 'Linux/UNIX',\n",
       "   'SpotInstanceRequestId': 'sir-2hfr9kvn',\n",
       "   'SpotPrice': '25.000000',\n",
       "   'State': 'closed',\n",
       "   'Status': {'Code': 'instance-terminated-by-user',\n",
       "    'Message': '2018-07-02T04:05:37+0000 : 2018-07-02T04:05:37+0000 : Spot Instance terminated due to user-initiated termination.',\n",
       "    'UpdateTime': datetime.datetime(2018, 7, 2, 4, 6, 59, tzinfo=tzutc())},\n",
       "   'Type': 'one-time',\n",
       "   'ValidUntil': datetime.datetime(2018, 7, 9, 4, 5, 34, tzinfo=tzutc()),\n",
       "   'InstanceInterruptionBehavior': 'terminate'},\n",
       "  {'CreateTime': datetime.datetime(2018, 7, 2, 4, 5, 34, tzinfo=tzutc()),\n",
       "   'InstanceId': 'i-0c909a5ff9396dc81',\n",
       "   'LaunchSpecification': {'SecurityGroups': [{'GroupName': 'default'}],\n",
       "    'BlockDeviceMappings': [{'DeviceName': '/dev/sda1',\n",
       "      'Ebs': {'DeleteOnTermination': True,\n",
       "       'Iops': 14000,\n",
       "       'VolumeSize': 1000,\n",
       "       'VolumeType': 'io1'}}],\n",
       "    'ImageId': 'ami-53c8822b',\n",
       "    'InstanceType': 'p3.16xlarge',\n",
       "    'KeyName': 'nexus-andrewshaw',\n",
       "    'NetworkInterfaces': [{'AssociatePublicIpAddress': True,\n",
       "      'DeviceIndex': 0,\n",
       "      'SubnetId': 'subnet-42300a24'}],\n",
       "    'Placement': {'AvailabilityZone': 'us-west-2b',\n",
       "     'GroupName': 'pytorch_cluster_b'},\n",
       "    'Monitoring': {'Enabled': False}},\n",
       "   'LaunchedAvailabilityZone': 'us-west-2b',\n",
       "   'ProductDescription': 'Linux/UNIX',\n",
       "   'SpotInstanceRequestId': 'sir-6ktraa3q',\n",
       "   'SpotPrice': '25.000000',\n",
       "   'State': 'closed',\n",
       "   'Status': {'Code': 'instance-terminated-by-user',\n",
       "    'Message': '2018-07-02T04:05:37+0000 : 2018-07-02T04:05:37+0000 : Spot Instance terminated due to user-initiated termination.',\n",
       "    'UpdateTime': datetime.datetime(2018, 7, 2, 4, 6, 59, tzinfo=tzutc())},\n",
       "   'Type': 'one-time',\n",
       "   'ValidUntil': datetime.datetime(2018, 7, 9, 4, 5, 34, tzinfo=tzutc()),\n",
       "   'InstanceInterruptionBehavior': 'terminate'},\n",
       "  {'CreateTime': datetime.datetime(2018, 7, 2, 4, 57, 1, tzinfo=tzutc()),\n",
       "   'InstanceId': 'i-0895e83be37f036f8',\n",
       "   'LaunchSpecification': {'SecurityGroups': [{'GroupName': 'default'}],\n",
       "    'BlockDeviceMappings': [{'DeviceName': '/dev/sda1',\n",
       "      'Ebs': {'DeleteOnTermination': True,\n",
       "       'Iops': 14000,\n",
       "       'VolumeSize': 1000,\n",
       "       'VolumeType': 'io1'}}],\n",
       "    'ImageId': 'ami-53c8822b',\n",
       "    'InstanceType': 'p3.16xlarge',\n",
       "    'KeyName': 'nexus-andrewshaw',\n",
       "    'NetworkInterfaces': [{'AssociatePublicIpAddress': True,\n",
       "      'DeviceIndex': 0,\n",
       "      'SubnetId': 'subnet-42300a24'}],\n",
       "    'Placement': {'AvailabilityZone': 'us-west-2b',\n",
       "     'GroupName': 'pytorch_cluster_b'},\n",
       "    'Monitoring': {'Enabled': False}},\n",
       "   'LaunchedAvailabilityZone': 'us-west-2b',\n",
       "   'ProductDescription': 'Linux/UNIX',\n",
       "   'SpotInstanceRequestId': 'sir-keyr83jq',\n",
       "   'SpotPrice': '25.000000',\n",
       "   'State': 'closed',\n",
       "   'Status': {'Code': 'instance-terminated-by-user',\n",
       "    'Message': '2018-07-02T04:57:04+0000 : 2018-07-02T04:57:04+0000 : Spot Instance terminated due to user-initiated termination.',\n",
       "    'UpdateTime': datetime.datetime(2018, 7, 2, 4, 58, 39, tzinfo=tzutc())},\n",
       "   'Type': 'one-time',\n",
       "   'ValidUntil': datetime.datetime(2018, 7, 9, 4, 57, 1, tzinfo=tzutc()),\n",
       "   'InstanceInterruptionBehavior': 'terminate'},\n",
       "  {'CreateTime': datetime.datetime(2018, 7, 2, 4, 57, 1, tzinfo=tzutc()),\n",
       "   'InstanceId': 'i-0d9f1901dd7e3a9d8',\n",
       "   'LaunchSpecification': {'SecurityGroups': [{'GroupName': 'default'}],\n",
       "    'BlockDeviceMappings': [{'DeviceName': '/dev/sda1',\n",
       "      'Ebs': {'DeleteOnTermination': True,\n",
       "       'Iops': 14000,\n",
       "       'VolumeSize': 1000,\n",
       "       'VolumeType': 'io1'}}],\n",
       "    'ImageId': 'ami-53c8822b',\n",
       "    'InstanceType': 'p3.16xlarge',\n",
       "    'KeyName': 'nexus-andrewshaw',\n",
       "    'NetworkInterfaces': [{'AssociatePublicIpAddress': True,\n",
       "      'DeviceIndex': 0,\n",
       "      'SubnetId': 'subnet-42300a24'}],\n",
       "    'Placement': {'AvailabilityZone': 'us-west-2b',\n",
       "     'GroupName': 'pytorch_cluster_b'},\n",
       "    'Monitoring': {'Enabled': False}},\n",
       "   'LaunchedAvailabilityZone': 'us-west-2b',\n",
       "   'ProductDescription': 'Linux/UNIX',\n",
       "   'SpotInstanceRequestId': 'sir-rztgbq9p',\n",
       "   'SpotPrice': '25.000000',\n",
       "   'State': 'closed',\n",
       "   'Status': {'Code': 'instance-terminated-by-user',\n",
       "    'Message': '2018-07-02T04:57:04+0000 : 2018-07-02T04:57:04+0000 : Spot Instance terminated due to user-initiated termination.',\n",
       "    'UpdateTime': datetime.datetime(2018, 7, 2, 4, 58, 39, tzinfo=tzutc())},\n",
       "   'Type': 'one-time',\n",
       "   'ValidUntil': datetime.datetime(2018, 7, 9, 4, 57, 1, tzinfo=tzutc()),\n",
       "   'InstanceInterruptionBehavior': 'terminate'},\n",
       "  {'CreateTime': datetime.datetime(2018, 7, 2, 4, 2, 25, tzinfo=tzutc()),\n",
       "   'InstanceId': 'i-0c8948ab0b0865019',\n",
       "   'LaunchSpecification': {'SecurityGroups': [{'GroupName': 'default'}],\n",
       "    'BlockDeviceMappings': [{'DeviceName': '/dev/sda1',\n",
       "      'Ebs': {'DeleteOnTermination': True,\n",
       "       'Iops': 8000,\n",
       "       'VolumeSize': 300,\n",
       "       'VolumeType': 'io1'}}],\n",
       "    'ImageId': 'ami-e580c79d',\n",
       "    'InstanceType': 'p3.16xlarge',\n",
       "    'KeyName': 'nexus-andrewshaw',\n",
       "    'NetworkInterfaces': [{'AssociatePublicIpAddress': True,\n",
       "      'DeviceIndex': 0,\n",
       "      'SubnetId': 'subnet-e1ee1fbb'}],\n",
       "    'Placement': {'AvailabilityZone': 'us-west-2c',\n",
       "     'GroupName': 'pytorch_cluster_c'},\n",
       "    'Monitoring': {'Enabled': False}},\n",
       "   'LaunchedAvailabilityZone': 'us-west-2c',\n",
       "   'ProductDescription': 'Linux/UNIX',\n",
       "   'SpotInstanceRequestId': 'sir-ysggb64n',\n",
       "   'SpotPrice': '25.000000',\n",
       "   'State': 'closed',\n",
       "   'Status': {'Code': 'instance-terminated-by-user',\n",
       "    'Message': '2018-07-02T04:02:28+0000 : 2018-07-02T04:02:28+0000 : Spot Instance terminated due to user-initiated termination.',\n",
       "    'UpdateTime': datetime.datetime(2018, 7, 2, 4, 4, tzinfo=tzutc())},\n",
       "   'Type': 'one-time',\n",
       "   'ValidUntil': datetime.datetime(2018, 7, 9, 4, 2, 25, tzinfo=tzutc()),\n",
       "   'InstanceInterruptionBehavior': 'terminate'},\n",
       "  {'CreateTime': datetime.datetime(2018, 7, 2, 4, 57, 1, tzinfo=tzutc()),\n",
       "   'InstanceId': 'i-02032e603b41dcfbb',\n",
       "   'LaunchSpecification': {'SecurityGroups': [{'GroupName': 'default'}],\n",
       "    'BlockDeviceMappings': [{'DeviceName': '/dev/sda1',\n",
       "      'Ebs': {'DeleteOnTermination': True,\n",
       "       'Iops': 14000,\n",
       "       'VolumeSize': 1000,\n",
       "       'VolumeType': 'io1'}}],\n",
       "    'ImageId': 'ami-53c8822b',\n",
       "    'InstanceType': 'p3.16xlarge',\n",
       "    'KeyName': 'nexus-andrewshaw',\n",
       "    'NetworkInterfaces': [{'AssociatePublicIpAddress': True,\n",
       "      'DeviceIndex': 0,\n",
       "      'SubnetId': 'subnet-42300a24'}],\n",
       "    'Placement': {'AvailabilityZone': 'us-west-2b',\n",
       "     'GroupName': 'pytorch_cluster_b'},\n",
       "    'Monitoring': {'Enabled': False}},\n",
       "   'LaunchedAvailabilityZone': 'us-west-2b',\n",
       "   'ProductDescription': 'Linux/UNIX',\n",
       "   'SpotInstanceRequestId': 'sir-z4qi8p4m',\n",
       "   'SpotPrice': '25.000000',\n",
       "   'State': 'closed',\n",
       "   'Status': {'Code': 'instance-terminated-by-user',\n",
       "    'Message': '2018-07-02T04:57:04+0000 : 2018-07-02T04:57:04+0000 : Spot Instance terminated due to user-initiated termination.',\n",
       "    'UpdateTime': datetime.datetime(2018, 7, 2, 4, 58, 39, tzinfo=tzutc())},\n",
       "   'Type': 'one-time',\n",
       "   'ValidUntil': datetime.datetime(2018, 7, 9, 4, 57, 1, tzinfo=tzutc()),\n",
       "   'InstanceInterruptionBehavior': 'terminate'},\n",
       "  {'CreateTime': datetime.datetime(2018, 7, 2, 4, 5, 34, tzinfo=tzutc()),\n",
       "   'InstanceId': 'i-0475566f15401634d',\n",
       "   'LaunchSpecification': {'SecurityGroups': [{'GroupName': 'default'}],\n",
       "    'BlockDeviceMappings': [{'DeviceName': '/dev/sda1',\n",
       "      'Ebs': {'DeleteOnTermination': True,\n",
       "       'Iops': 14000,\n",
       "       'VolumeSize': 1000,\n",
       "       'VolumeType': 'io1'}}],\n",
       "    'ImageId': 'ami-53c8822b',\n",
       "    'InstanceType': 'p3.16xlarge',\n",
       "    'KeyName': 'nexus-andrewshaw',\n",
       "    'NetworkInterfaces': [{'AssociatePublicIpAddress': True,\n",
       "      'DeviceIndex': 0,\n",
       "      'SubnetId': 'subnet-42300a24'}],\n",
       "    'Placement': {'AvailabilityZone': 'us-west-2b',\n",
       "     'GroupName': 'pytorch_cluster_b'},\n",
       "    'Monitoring': {'Enabled': False}},\n",
       "   'LaunchedAvailabilityZone': 'us-west-2b',\n",
       "   'ProductDescription': 'Linux/UNIX',\n",
       "   'SpotInstanceRequestId': 'sir-yf6i9prq',\n",
       "   'SpotPrice': '25.000000',\n",
       "   'State': 'closed',\n",
       "   'Status': {'Code': 'instance-terminated-by-user',\n",
       "    'Message': '2018-07-02T04:05:37+0000 : 2018-07-02T04:05:37+0000 : Spot Instance terminated due to user-initiated termination.',\n",
       "    'UpdateTime': datetime.datetime(2018, 7, 2, 4, 6, 59, tzinfo=tzutc())},\n",
       "   'Type': 'one-time',\n",
       "   'ValidUntil': datetime.datetime(2018, 7, 9, 4, 5, 34, tzinfo=tzutc()),\n",
       "   'InstanceInterruptionBehavior': 'terminate'},\n",
       "  {'CreateTime': datetime.datetime(2018, 7, 2, 4, 57, 1, tzinfo=tzutc()),\n",
       "   'InstanceId': 'i-0e29e9120fcee159d',\n",
       "   'LaunchSpecification': {'SecurityGroups': [{'GroupName': 'default'}],\n",
       "    'BlockDeviceMappings': [{'DeviceName': '/dev/sda1',\n",
       "      'Ebs': {'DeleteOnTermination': True,\n",
       "       'Iops': 14000,\n",
       "       'VolumeSize': 1000,\n",
       "       'VolumeType': 'io1'}}],\n",
       "    'ImageId': 'ami-53c8822b',\n",
       "    'InstanceType': 'p3.16xlarge',\n",
       "    'KeyName': 'nexus-andrewshaw',\n",
       "    'NetworkInterfaces': [{'AssociatePublicIpAddress': True,\n",
       "      'DeviceIndex': 0,\n",
       "      'SubnetId': 'subnet-42300a24'}],\n",
       "    'Placement': {'AvailabilityZone': 'us-west-2b',\n",
       "     'GroupName': 'pytorch_cluster_b'},\n",
       "    'Monitoring': {'Enabled': False}},\n",
       "   'LaunchedAvailabilityZone': 'us-west-2b',\n",
       "   'ProductDescription': 'Linux/UNIX',\n",
       "   'SpotInstanceRequestId': 'sir-2mrg9nsq',\n",
       "   'SpotPrice': '25.000000',\n",
       "   'State': 'closed',\n",
       "   'Status': {'Code': 'instance-terminated-by-user',\n",
       "    'Message': '2018-07-02T04:57:04+0000 : 2018-07-02T04:57:04+0000 : Spot Instance terminated due to user-initiated termination.',\n",
       "    'UpdateTime': datetime.datetime(2018, 7, 2, 4, 58, 39, tzinfo=tzutc())},\n",
       "   'Type': 'one-time',\n",
       "   'ValidUntil': datetime.datetime(2018, 7, 9, 4, 57, 1, tzinfo=tzutc()),\n",
       "   'InstanceInterruptionBehavior': 'terminate'},\n",
       "  {'CreateTime': datetime.datetime(2018, 7, 2, 4, 2, 25, tzinfo=tzutc()),\n",
       "   'InstanceId': 'i-09157fb72c6f4f2e4',\n",
       "   'LaunchSpecification': {'SecurityGroups': [{'GroupName': 'default'}],\n",
       "    'BlockDeviceMappings': [{'DeviceName': '/dev/sda1',\n",
       "      'Ebs': {'DeleteOnTermination': True,\n",
       "       'Iops': 8000,\n",
       "       'VolumeSize': 300,\n",
       "       'VolumeType': 'io1'}}],\n",
       "    'ImageId': 'ami-e580c79d',\n",
       "    'InstanceType': 'p3.16xlarge',\n",
       "    'KeyName': 'nexus-andrewshaw',\n",
       "    'NetworkInterfaces': [{'AssociatePublicIpAddress': True,\n",
       "      'DeviceIndex': 0,\n",
       "      'SubnetId': 'subnet-e1ee1fbb'}],\n",
       "    'Placement': {'AvailabilityZone': 'us-west-2c',\n",
       "     'GroupName': 'pytorch_cluster_c'},\n",
       "    'Monitoring': {'Enabled': False}},\n",
       "   'LaunchedAvailabilityZone': 'us-west-2c',\n",
       "   'ProductDescription': 'Linux/UNIX',\n",
       "   'SpotInstanceRequestId': 'sir-g8qi83qm',\n",
       "   'SpotPrice': '25.000000',\n",
       "   'State': 'closed',\n",
       "   'Status': {'Code': 'instance-terminated-by-user',\n",
       "    'Message': '2018-07-02T04:11:38+0000 : 2018-07-02T04:11:38+0000 : Spot Instance terminated due to user-initiated termination.',\n",
       "    'UpdateTime': datetime.datetime(2018, 7, 2, 4, 12, 30, tzinfo=tzutc())},\n",
       "   'Type': 'one-time',\n",
       "   'ValidUntil': datetime.datetime(2018, 7, 9, 4, 2, 25, tzinfo=tzutc()),\n",
       "   'InstanceInterruptionBehavior': 'terminate'},\n",
       "  {'CreateTime': datetime.datetime(2018, 7, 1, 20, 17, 57, tzinfo=tzutc()),\n",
       "   'InstanceId': 'i-0bf24129e8c138c89',\n",
       "   'LaunchSpecification': {'SecurityGroups': [{'GroupName': 'default'}],\n",
       "    'BlockDeviceMappings': [{'DeviceName': '/dev/sda1',\n",
       "      'Ebs': {'DeleteOnTermination': True,\n",
       "       'Iops': 14000,\n",
       "       'VolumeSize': 1000,\n",
       "       'VolumeType': 'io1'}}],\n",
       "    'ImageId': 'ami-53c8822b',\n",
       "    'InstanceType': 'p3.16xlarge',\n",
       "    'KeyName': 'nexus-andrewshaw',\n",
       "    'NetworkInterfaces': [{'AssociatePublicIpAddress': True,\n",
       "      'DeviceIndex': 0,\n",
       "      'SubnetId': 'subnet-e1ee1fbb'}],\n",
       "    'Placement': {'AvailabilityZone': 'us-west-2c',\n",
       "     'GroupName': 'pytorch_cluster_c'},\n",
       "    'Monitoring': {'Enabled': False}},\n",
       "   'LaunchedAvailabilityZone': 'us-west-2c',\n",
       "   'ProductDescription': 'Linux/UNIX',\n",
       "   'SpotInstanceRequestId': 'sir-bhwiackp',\n",
       "   'SpotPrice': '25.000000',\n",
       "   'State': 'closed',\n",
       "   'Status': {'Code': 'instance-terminated-by-user',\n",
       "    'Message': '2018-07-02T03:29:02+0000 : 2018-07-02T03:29:02+0000 : Spot Instance terminated due to user-initiated termination.',\n",
       "    'UpdateTime': datetime.datetime(2018, 7, 2, 3, 29, 53, tzinfo=tzutc())},\n",
       "   'Type': 'one-time',\n",
       "   'ValidUntil': datetime.datetime(2018, 7, 8, 20, 17, 57, tzinfo=tzutc()),\n",
       "   'InstanceInterruptionBehavior': 'terminate'},\n",
       "  {'CreateTime': datetime.datetime(2018, 7, 2, 4, 5, 34, tzinfo=tzutc()),\n",
       "   'InstanceId': 'i-02375a41a4dd8ca76',\n",
       "   'LaunchSpecification': {'SecurityGroups': [{'GroupName': 'default'}],\n",
       "    'BlockDeviceMappings': [{'DeviceName': '/dev/sda1',\n",
       "      'Ebs': {'DeleteOnTermination': True,\n",
       "       'Iops': 14000,\n",
       "       'VolumeSize': 1000,\n",
       "       'VolumeType': 'io1'}}],\n",
       "    'ImageId': 'ami-53c8822b',\n",
       "    'InstanceType': 'p3.16xlarge',\n",
       "    'KeyName': 'nexus-andrewshaw',\n",
       "    'NetworkInterfaces': [{'AssociatePublicIpAddress': True,\n",
       "      'DeviceIndex': 0,\n",
       "      'SubnetId': 'subnet-42300a24'}],\n",
       "    'Placement': {'AvailabilityZone': 'us-west-2b',\n",
       "     'GroupName': 'pytorch_cluster_b'},\n",
       "    'Monitoring': {'Enabled': False}},\n",
       "   'LaunchedAvailabilityZone': 'us-west-2b',\n",
       "   'ProductDescription': 'Linux/UNIX',\n",
       "   'SpotInstanceRequestId': 'sir-9m58a8mm',\n",
       "   'SpotPrice': '25.000000',\n",
       "   'State': 'closed',\n",
       "   'Status': {'Code': 'instance-terminated-by-user',\n",
       "    'Message': '2018-07-02T04:05:37+0000 : 2018-07-02T04:05:37+0000 : Spot Instance terminated due to user-initiated termination.',\n",
       "    'UpdateTime': datetime.datetime(2018, 7, 2, 4, 6, 59, tzinfo=tzutc())},\n",
       "   'Type': 'one-time',\n",
       "   'ValidUntil': datetime.datetime(2018, 7, 9, 4, 5, 34, tzinfo=tzutc()),\n",
       "   'InstanceInterruptionBehavior': 'terminate'},\n",
       "  {'CreateTime': datetime.datetime(2018, 7, 1, 20, 17, 57, tzinfo=tzutc()),\n",
       "   'InstanceId': 'i-03625e87d1a24ba72',\n",
       "   'LaunchSpecification': {'SecurityGroups': [{'GroupName': 'default'}],\n",
       "    'BlockDeviceMappings': [{'DeviceName': '/dev/sda1',\n",
       "      'Ebs': {'DeleteOnTermination': True,\n",
       "       'Iops': 14000,\n",
       "       'VolumeSize': 1000,\n",
       "       'VolumeType': 'io1'}}],\n",
       "    'ImageId': 'ami-53c8822b',\n",
       "    'InstanceType': 'p3.16xlarge',\n",
       "    'KeyName': 'nexus-andrewshaw',\n",
       "    'NetworkInterfaces': [{'AssociatePublicIpAddress': True,\n",
       "      'DeviceIndex': 0,\n",
       "      'SubnetId': 'subnet-e1ee1fbb'}],\n",
       "    'Placement': {'AvailabilityZone': 'us-west-2c',\n",
       "     'GroupName': 'pytorch_cluster_c'},\n",
       "    'Monitoring': {'Enabled': False}},\n",
       "   'LaunchedAvailabilityZone': 'us-west-2c',\n",
       "   'ProductDescription': 'Linux/UNIX',\n",
       "   'SpotInstanceRequestId': 'sir-ezbg85bm',\n",
       "   'SpotPrice': '25.000000',\n",
       "   'State': 'closed',\n",
       "   'Status': {'Code': 'instance-terminated-by-user',\n",
       "    'Message': '2018-07-02T03:28:54+0000 : 2018-07-02T03:28:54+0000 : Spot Instance terminated due to user-initiated termination.',\n",
       "    'UpdateTime': datetime.datetime(2018, 7, 2, 3, 29, 53, tzinfo=tzutc())},\n",
       "   'Type': 'one-time',\n",
       "   'ValidUntil': datetime.datetime(2018, 7, 8, 20, 17, 57, tzinfo=tzutc()),\n",
       "   'InstanceInterruptionBehavior': 'terminate'},\n",
       "  {'CreateTime': datetime.datetime(2018, 7, 2, 4, 2, 25, tzinfo=tzutc()),\n",
       "   'InstanceId': 'i-051f77a6a4ed020a8',\n",
       "   'LaunchSpecification': {'SecurityGroups': [{'GroupName': 'default'}],\n",
       "    'BlockDeviceMappings': [{'DeviceName': '/dev/sda1',\n",
       "      'Ebs': {'DeleteOnTermination': True,\n",
       "       'Iops': 8000,\n",
       "       'VolumeSize': 300,\n",
       "       'VolumeType': 'io1'}}],\n",
       "    'ImageId': 'ami-e580c79d',\n",
       "    'InstanceType': 'p3.16xlarge',\n",
       "    'KeyName': 'nexus-andrewshaw',\n",
       "    'NetworkInterfaces': [{'AssociatePublicIpAddress': True,\n",
       "      'DeviceIndex': 0,\n",
       "      'SubnetId': 'subnet-e1ee1fbb'}],\n",
       "    'Placement': {'AvailabilityZone': 'us-west-2c',\n",
       "     'GroupName': 'pytorch_cluster_c'},\n",
       "    'Monitoring': {'Enabled': False}},\n",
       "   'LaunchedAvailabilityZone': 'us-west-2c',\n",
       "   'ProductDescription': 'Linux/UNIX',\n",
       "   'SpotInstanceRequestId': 'sir-wkfrbaxn',\n",
       "   'SpotPrice': '25.000000',\n",
       "   'State': 'closed',\n",
       "   'Status': {'Code': 'instance-terminated-by-user',\n",
       "    'Message': '2018-07-02T04:10:00+0000 : 2018-07-02T04:10:00+0000 : Spot Instance terminated due to user-initiated termination.',\n",
       "    'UpdateTime': datetime.datetime(2018, 7, 2, 4, 11, 32, tzinfo=tzutc())},\n",
       "   'Type': 'one-time',\n",
       "   'ValidUntil': datetime.datetime(2018, 7, 9, 4, 2, 25, tzinfo=tzutc()),\n",
       "   'InstanceInterruptionBehavior': 'terminate'},\n",
       "  {'CreateTime': datetime.datetime(2018, 7, 1, 20, 17, 57, tzinfo=tzutc()),\n",
       "   'InstanceId': 'i-02f51d176814aa8e7',\n",
       "   'LaunchSpecification': {'SecurityGroups': [{'GroupName': 'default'}],\n",
       "    'BlockDeviceMappings': [{'DeviceName': '/dev/sda1',\n",
       "      'Ebs': {'DeleteOnTermination': True,\n",
       "       'Iops': 14000,\n",
       "       'VolumeSize': 1000,\n",
       "       'VolumeType': 'io1'}}],\n",
       "    'ImageId': 'ami-53c8822b',\n",
       "    'InstanceType': 'p3.16xlarge',\n",
       "    'KeyName': 'nexus-andrewshaw',\n",
       "    'NetworkInterfaces': [{'AssociatePublicIpAddress': True,\n",
       "      'DeviceIndex': 0,\n",
       "      'SubnetId': 'subnet-e1ee1fbb'}],\n",
       "    'Placement': {'AvailabilityZone': 'us-west-2c',\n",
       "     'GroupName': 'pytorch_cluster_c'},\n",
       "    'Monitoring': {'Enabled': False}},\n",
       "   'LaunchedAvailabilityZone': 'us-west-2c',\n",
       "   'ProductDescription': 'Linux/UNIX',\n",
       "   'SpotInstanceRequestId': 'sir-5p4gb1yq',\n",
       "   'SpotPrice': '25.000000',\n",
       "   'State': 'closed',\n",
       "   'Status': {'Code': 'instance-terminated-by-user',\n",
       "    'Message': '2018-07-02T03:29:07+0000 : 2018-07-02T03:29:07+0000 : Spot Instance terminated due to user-initiated termination.',\n",
       "    'UpdateTime': datetime.datetime(2018, 7, 2, 3, 31, 1, tzinfo=tzutc())},\n",
       "   'Type': 'one-time',\n",
       "   'ValidUntil': datetime.datetime(2018, 7, 8, 20, 17, 57, tzinfo=tzutc()),\n",
       "   'InstanceInterruptionBehavior': 'terminate'},\n",
       "  {'CreateTime': datetime.datetime(2018, 7, 2, 4, 2, 25, tzinfo=tzutc()),\n",
       "   'InstanceId': 'i-0603ad7e331a5cd7f',\n",
       "   'LaunchSpecification': {'SecurityGroups': [{'GroupName': 'default'}],\n",
       "    'BlockDeviceMappings': [{'DeviceName': '/dev/sda1',\n",
       "      'Ebs': {'DeleteOnTermination': True,\n",
       "       'Iops': 8000,\n",
       "       'VolumeSize': 300,\n",
       "       'VolumeType': 'io1'}}],\n",
       "    'ImageId': 'ami-e580c79d',\n",
       "    'InstanceType': 'p3.16xlarge',\n",
       "    'KeyName': 'nexus-andrewshaw',\n",
       "    'NetworkInterfaces': [{'AssociatePublicIpAddress': True,\n",
       "      'DeviceIndex': 0,\n",
       "      'SubnetId': 'subnet-e1ee1fbb'}],\n",
       "    'Placement': {'AvailabilityZone': 'us-west-2c',\n",
       "     'GroupName': 'pytorch_cluster_c'},\n",
       "    'Monitoring': {'Enabled': False}},\n",
       "   'LaunchedAvailabilityZone': 'us-west-2c',\n",
       "   'ProductDescription': 'Linux/UNIX',\n",
       "   'SpotInstanceRequestId': 'sir-hfh8awnn',\n",
       "   'SpotPrice': '25.000000',\n",
       "   'State': 'closed',\n",
       "   'Status': {'Code': 'instance-terminated-by-user',\n",
       "    'Message': '2018-07-02T04:11:34+0000 : 2018-07-02T04:11:34+0000 : Spot Instance terminated due to user-initiated termination.',\n",
       "    'UpdateTime': datetime.datetime(2018, 7, 2, 4, 12, 30, tzinfo=tzutc())},\n",
       "   'Type': 'one-time',\n",
       "   'ValidUntil': datetime.datetime(2018, 7, 9, 4, 2, 25, tzinfo=tzutc()),\n",
       "   'InstanceInterruptionBehavior': 'terminate'},\n",
       "  {'CreateTime': datetime.datetime(2018, 7, 2, 4, 57, 1, tzinfo=tzutc()),\n",
       "   'InstanceId': 'i-028baa0a9a3fb7da4',\n",
       "   'LaunchSpecification': {'SecurityGroups': [{'GroupName': 'default'}],\n",
       "    'BlockDeviceMappings': [{'DeviceName': '/dev/sda1',\n",
       "      'Ebs': {'DeleteOnTermination': True,\n",
       "       'Iops': 14000,\n",
       "       'VolumeSize': 1000,\n",
       "       'VolumeType': 'io1'}}],\n",
       "    'ImageId': 'ami-53c8822b',\n",
       "    'InstanceType': 'p3.16xlarge',\n",
       "    'KeyName': 'nexus-andrewshaw',\n",
       "    'NetworkInterfaces': [{'AssociatePublicIpAddress': True,\n",
       "      'DeviceIndex': 0,\n",
       "      'SubnetId': 'subnet-42300a24'}],\n",
       "    'Placement': {'AvailabilityZone': 'us-west-2b',\n",
       "     'GroupName': 'pytorch_cluster_b'},\n",
       "    'Monitoring': {'Enabled': False}},\n",
       "   'LaunchedAvailabilityZone': 'us-west-2b',\n",
       "   'ProductDescription': 'Linux/UNIX',\n",
       "   'SpotInstanceRequestId': 'sir-gxwi9d8n',\n",
       "   'SpotPrice': '25.000000',\n",
       "   'State': 'closed',\n",
       "   'Status': {'Code': 'instance-terminated-by-user',\n",
       "    'Message': '2018-07-02T04:57:04+0000 : 2018-07-02T04:57:04+0000 : Spot Instance terminated due to user-initiated termination.',\n",
       "    'UpdateTime': datetime.datetime(2018, 7, 2, 4, 58, 39, tzinfo=tzutc())},\n",
       "   'Type': 'one-time',\n",
       "   'ValidUntil': datetime.datetime(2018, 7, 9, 4, 57, 1, tzinfo=tzutc()),\n",
       "   'InstanceInterruptionBehavior': 'terminate'},\n",
       "  {'CreateTime': datetime.datetime(2018, 7, 2, 4, 57, 1, tzinfo=tzutc()),\n",
       "   'InstanceId': 'i-0bfe80b0cc48dd8ee',\n",
       "   'LaunchSpecification': {'SecurityGroups': [{'GroupName': 'default'}],\n",
       "    'BlockDeviceMappings': [{'DeviceName': '/dev/sda1',\n",
       "      'Ebs': {'DeleteOnTermination': True,\n",
       "       'Iops': 14000,\n",
       "       'VolumeSize': 1000,\n",
       "       'VolumeType': 'io1'}}],\n",
       "    'ImageId': 'ami-53c8822b',\n",
       "    'InstanceType': 'p3.16xlarge',\n",
       "    'KeyName': 'nexus-andrewshaw',\n",
       "    'NetworkInterfaces': [{'AssociatePublicIpAddress': True,\n",
       "      'DeviceIndex': 0,\n",
       "      'SubnetId': 'subnet-42300a24'}],\n",
       "    'Placement': {'AvailabilityZone': 'us-west-2b',\n",
       "     'GroupName': 'pytorch_cluster_b'},\n",
       "    'Monitoring': {'Enabled': False}},\n",
       "   'LaunchedAvailabilityZone': 'us-west-2b',\n",
       "   'ProductDescription': 'Linux/UNIX',\n",
       "   'SpotInstanceRequestId': 'sir-j6krbfpn',\n",
       "   'SpotPrice': '25.000000',\n",
       "   'State': 'closed',\n",
       "   'Status': {'Code': 'instance-terminated-by-user',\n",
       "    'Message': '2018-07-02T04:57:04+0000 : 2018-07-02T04:57:04+0000 : Spot Instance terminated due to user-initiated termination.',\n",
       "    'UpdateTime': datetime.datetime(2018, 7, 2, 4, 58, 39, tzinfo=tzutc())},\n",
       "   'Type': 'one-time',\n",
       "   'ValidUntil': datetime.datetime(2018, 7, 9, 4, 57, 1, tzinfo=tzutc()),\n",
       "   'InstanceInterruptionBehavior': 'terminate'},\n",
       "  {'CreateTime': datetime.datetime(2018, 7, 1, 20, 17, 57, tzinfo=tzutc()),\n",
       "   'InstanceId': 'i-05f0e640a63637c1b',\n",
       "   'LaunchSpecification': {'SecurityGroups': [{'GroupName': 'default'}],\n",
       "    'BlockDeviceMappings': [{'DeviceName': '/dev/sda1',\n",
       "      'Ebs': {'DeleteOnTermination': True,\n",
       "       'Iops': 14000,\n",
       "       'VolumeSize': 1000,\n",
       "       'VolumeType': 'io1'}}],\n",
       "    'ImageId': 'ami-53c8822b',\n",
       "    'InstanceType': 'p3.16xlarge',\n",
       "    'KeyName': 'nexus-andrewshaw',\n",
       "    'NetworkInterfaces': [{'AssociatePublicIpAddress': True,\n",
       "      'DeviceIndex': 0,\n",
       "      'SubnetId': 'subnet-e1ee1fbb'}],\n",
       "    'Placement': {'AvailabilityZone': 'us-west-2c',\n",
       "     'GroupName': 'pytorch_cluster_c'},\n",
       "    'Monitoring': {'Enabled': False}},\n",
       "   'LaunchedAvailabilityZone': 'us-west-2c',\n",
       "   'ProductDescription': 'Linux/UNIX',\n",
       "   'SpotInstanceRequestId': 'sir-6gmib2am',\n",
       "   'SpotPrice': '25.000000',\n",
       "   'State': 'closed',\n",
       "   'Status': {'Code': 'instance-terminated-by-user',\n",
       "    'Message': '2018-07-02T03:28:52+0000 : 2018-07-02T03:28:52+0000 : Spot Instance terminated due to user-initiated termination.',\n",
       "    'UpdateTime': datetime.datetime(2018, 7, 2, 3, 29, 53, tzinfo=tzutc())},\n",
       "   'Type': 'one-time',\n",
       "   'ValidUntil': datetime.datetime(2018, 7, 8, 20, 17, 57, tzinfo=tzutc()),\n",
       "   'InstanceInterruptionBehavior': 'terminate'},\n",
       "  {'CreateTime': datetime.datetime(2018, 7, 2, 4, 2, 25, tzinfo=tzutc()),\n",
       "   'InstanceId': 'i-01413650ca94b7b6a',\n",
       "   'LaunchSpecification': {'SecurityGroups': [{'GroupName': 'default'}],\n",
       "    'BlockDeviceMappings': [{'DeviceName': '/dev/sda1',\n",
       "      'Ebs': {'DeleteOnTermination': True,\n",
       "       'Iops': 8000,\n",
       "       'VolumeSize': 300,\n",
       "       'VolumeType': 'io1'}}],\n",
       "    'ImageId': 'ami-e580c79d',\n",
       "    'InstanceType': 'p3.16xlarge',\n",
       "    'KeyName': 'nexus-andrewshaw',\n",
       "    'NetworkInterfaces': [{'AssociatePublicIpAddress': True,\n",
       "      'DeviceIndex': 0,\n",
       "      'SubnetId': 'subnet-e1ee1fbb'}],\n",
       "    'Placement': {'AvailabilityZone': 'us-west-2c',\n",
       "     'GroupName': 'pytorch_cluster_c'},\n",
       "    'Monitoring': {'Enabled': False}},\n",
       "   'LaunchedAvailabilityZone': 'us-west-2c',\n",
       "   'ProductDescription': 'Linux/UNIX',\n",
       "   'SpotInstanceRequestId': 'sir-jbnr8dmm',\n",
       "   'SpotPrice': '25.000000',\n",
       "   'State': 'closed',\n",
       "   'Status': {'Code': 'instance-terminated-by-user',\n",
       "    'Message': '2018-07-02T04:11:50+0000 : 2018-07-02T04:11:50+0000 : Spot Instance terminated due to user-initiated termination.',\n",
       "    'UpdateTime': datetime.datetime(2018, 7, 2, 4, 12, 30, tzinfo=tzutc())},\n",
       "   'Type': 'one-time',\n",
       "   'ValidUntil': datetime.datetime(2018, 7, 9, 4, 2, 25, tzinfo=tzutc()),\n",
       "   'InstanceInterruptionBehavior': 'terminate'},\n",
       "  {'CreateTime': datetime.datetime(2018, 7, 2, 4, 5, 34, tzinfo=tzutc()),\n",
       "   'InstanceId': 'i-0618d53abab79d1c6',\n",
       "   'LaunchSpecification': {'SecurityGroups': [{'GroupName': 'default'}],\n",
       "    'BlockDeviceMappings': [{'DeviceName': '/dev/sda1',\n",
       "      'Ebs': {'DeleteOnTermination': True,\n",
       "       'Iops': 14000,\n",
       "       'VolumeSize': 1000,\n",
       "       'VolumeType': 'io1'}}],\n",
       "    'ImageId': 'ami-53c8822b',\n",
       "    'InstanceType': 'p3.16xlarge',\n",
       "    'KeyName': 'nexus-andrewshaw',\n",
       "    'NetworkInterfaces': [{'AssociatePublicIpAddress': True,\n",
       "      'DeviceIndex': 0,\n",
       "      'SubnetId': 'subnet-42300a24'}],\n",
       "    'Placement': {'AvailabilityZone': 'us-west-2b',\n",
       "     'GroupName': 'pytorch_cluster_b'},\n",
       "    'Monitoring': {'Enabled': False}},\n",
       "   'LaunchedAvailabilityZone': 'us-west-2b',\n",
       "   'ProductDescription': 'Linux/UNIX',\n",
       "   'SpotInstanceRequestId': 'sir-5v6r832q',\n",
       "   'SpotPrice': '25.000000',\n",
       "   'State': 'closed',\n",
       "   'Status': {'Code': 'instance-terminated-by-user',\n",
       "    'Message': '2018-07-02T04:05:37+0000 : 2018-07-02T04:05:37+0000 : Spot Instance terminated due to user-initiated termination.',\n",
       "    'UpdateTime': datetime.datetime(2018, 7, 2, 4, 6, 59, tzinfo=tzutc())},\n",
       "   'Type': 'one-time',\n",
       "   'ValidUntil': datetime.datetime(2018, 7, 9, 4, 5, 34, tzinfo=tzutc()),\n",
       "   'InstanceInterruptionBehavior': 'terminate'},\n",
       "  {'CreateTime': datetime.datetime(2018, 7, 2, 4, 2, 25, tzinfo=tzutc()),\n",
       "   'InstanceId': 'i-0040f81edb54d65b3',\n",
       "   'LaunchSpecification': {'SecurityGroups': [{'GroupName': 'default'}],\n",
       "    'BlockDeviceMappings': [{'DeviceName': '/dev/sda1',\n",
       "      'Ebs': {'DeleteOnTermination': True,\n",
       "       'Iops': 8000,\n",
       "       'VolumeSize': 300,\n",
       "       'VolumeType': 'io1'}}],\n",
       "    'ImageId': 'ami-e580c79d',\n",
       "    'InstanceType': 'p3.16xlarge',\n",
       "    'KeyName': 'nexus-andrewshaw',\n",
       "    'NetworkInterfaces': [{'AssociatePublicIpAddress': True,\n",
       "      'DeviceIndex': 0,\n",
       "      'SubnetId': 'subnet-e1ee1fbb'}],\n",
       "    'Placement': {'AvailabilityZone': 'us-west-2c',\n",
       "     'GroupName': 'pytorch_cluster_c'},\n",
       "    'Monitoring': {'Enabled': False}},\n",
       "   'LaunchedAvailabilityZone': 'us-west-2c',\n",
       "   'ProductDescription': 'Linux/UNIX',\n",
       "   'SpotInstanceRequestId': 'sir-11g8andp',\n",
       "   'SpotPrice': '25.000000',\n",
       "   'State': 'active',\n",
       "   'Status': {'Code': 'fulfilled',\n",
       "    'Message': 'Your spot request is fulfilled.',\n",
       "    'UpdateTime': datetime.datetime(2018, 7, 2, 4, 2, 27, tzinfo=tzutc())},\n",
       "   'Type': 'one-time',\n",
       "   'ValidUntil': datetime.datetime(2018, 7, 9, 4, 2, 25, tzinfo=tzutc()),\n",
       "   'InstanceInterruptionBehavior': 'terminate'},\n",
       "  {'CreateTime': datetime.datetime(2018, 7, 2, 4, 57, 1, tzinfo=tzutc()),\n",
       "   'InstanceId': 'i-046e2c7f79d653442',\n",
       "   'LaunchSpecification': {'SecurityGroups': [{'GroupName': 'default'}],\n",
       "    'BlockDeviceMappings': [{'DeviceName': '/dev/sda1',\n",
       "      'Ebs': {'DeleteOnTermination': True,\n",
       "       'Iops': 14000,\n",
       "       'VolumeSize': 1000,\n",
       "       'VolumeType': 'io1'}}],\n",
       "    'ImageId': 'ami-53c8822b',\n",
       "    'InstanceType': 'p3.16xlarge',\n",
       "    'KeyName': 'nexus-andrewshaw',\n",
       "    'NetworkInterfaces': [{'AssociatePublicIpAddress': True,\n",
       "      'DeviceIndex': 0,\n",
       "      'SubnetId': 'subnet-42300a24'}],\n",
       "    'Placement': {'AvailabilityZone': 'us-west-2b',\n",
       "     'GroupName': 'pytorch_cluster_b'},\n",
       "    'Monitoring': {'Enabled': False}},\n",
       "   'LaunchedAvailabilityZone': 'us-west-2b',\n",
       "   'ProductDescription': 'Linux/UNIX',\n",
       "   'SpotInstanceRequestId': 'sir-7tngavcn',\n",
       "   'SpotPrice': '25.000000',\n",
       "   'State': 'closed',\n",
       "   'Status': {'Code': 'instance-terminated-by-user',\n",
       "    'Message': '2018-07-02T04:57:04+0000 : 2018-07-02T04:57:04+0000 : Spot Instance terminated due to user-initiated termination.',\n",
       "    'UpdateTime': datetime.datetime(2018, 7, 2, 4, 58, 39, tzinfo=tzutc())},\n",
       "   'Type': 'one-time',\n",
       "   'ValidUntil': datetime.datetime(2018, 7, 9, 4, 57, 1, tzinfo=tzutc()),\n",
       "   'InstanceInterruptionBehavior': 'terminate'}],\n",
       " 'ResponseMetadata': {'RequestId': 'bacaeb6b-b82e-4bec-9ae9-75cff0df9902',\n",
       "  'HTTPStatusCode': 200,\n",
       "  'HTTPHeaders': {'content-type': 'text/xml;charset=UTF-8',\n",
       "   'transfer-encoding': 'chunked',\n",
       "   'vary': 'Accept-Encoding',\n",
       "   'date': 'Mon, 02 Jul 2018 05:00:43 GMT',\n",
       "   'server': 'AmazonEC2'},\n",
       "  'RetryAttempts': 0}}"
      ]
     },
     "execution_count": 94,
     "metadata": {},
     "output_type": "execute_result"
    }
   ],
   "source": [
    "client.describe_spot_instance_requests()"
   ]
  },
  {
   "cell_type": "markdown",
   "metadata": {},
   "source": [
    "## Instances"
   ]
  },
  {
   "cell_type": "code",
   "execution_count": 338,
   "metadata": {},
   "outputs": [
    {
     "data": {
      "text/plain": [
       "[(0,\n",
       "  [{'Key': 'Name', 'Value': '7.cluster_8_region_b.pytorch'}],\n",
       "  'i-05a8842a08e90b9df',\n",
       "  {'Code': 80, 'Name': 'stopped'},\n",
       "  'nexus-andrewshaw',\n",
       "  ec2.PlacementGroup(name='pytorch_cluster_b')),\n",
       " (1,\n",
       "  [{'Key': 'Name', 'Value': '5.cluster_8_region_b.pytorch'}],\n",
       "  'i-0efb3695c1b9a4355',\n",
       "  {'Code': 80, 'Name': 'stopped'},\n",
       "  'nexus-andrewshaw',\n",
       "  ec2.PlacementGroup(name='pytorch_cluster_b')),\n",
       " (2,\n",
       "  [{'Key': 'Name', 'Value': '6.cluster_8_region_b.pytorch'}],\n",
       "  'i-072d410bd13bdd1e4',\n",
       "  {'Code': 80, 'Name': 'stopped'},\n",
       "  'nexus-andrewshaw',\n",
       "  ec2.PlacementGroup(name='pytorch_cluster_b')),\n",
       " (3,\n",
       "  [{'Key': 'Name', 'Value': '3.cluster_8_region_b.pytorch'}],\n",
       "  'i-002caaff904dde85d',\n",
       "  {'Code': 80, 'Name': 'stopped'},\n",
       "  'nexus-andrewshaw',\n",
       "  ec2.PlacementGroup(name='pytorch_cluster_b')),\n",
       " (4,\n",
       "  [{'Key': 'Name', 'Value': '4.cluster_8_region_b.pytorch'}],\n",
       "  'i-03fc2c6d5590c6bd1',\n",
       "  {'Code': 80, 'Name': 'stopped'},\n",
       "  'nexus-andrewshaw',\n",
       "  ec2.PlacementGroup(name='pytorch_cluster_b')),\n",
       " (5,\n",
       "  [{'Key': 'Name', 'Value': '1.cluster_8_region_b.pytorch'}],\n",
       "  'i-068ae105dbbb331c1',\n",
       "  {'Code': 80, 'Name': 'stopped'},\n",
       "  'nexus-andrewshaw',\n",
       "  ec2.PlacementGroup(name='pytorch_cluster_b')),\n",
       " (6,\n",
       "  [{'Key': 'Name', 'Value': '2.cluster_8_region_b.pytorch'}],\n",
       "  'i-04c9c4f03f9816518',\n",
       "  {'Code': 80, 'Name': 'stopped'},\n",
       "  'nexus-andrewshaw',\n",
       "  ec2.PlacementGroup(name='pytorch_cluster_b')),\n",
       " (7,\n",
       "  [{'Key': 'Name', 'Value': '0.cluster_8_region_b.pytorch'}],\n",
       "  'i-00571e9c7eabca03d',\n",
       "  {'Code': 80, 'Name': 'stopped'},\n",
       "  'nexus-andrewshaw',\n",
       "  ec2.PlacementGroup(name='pytorch_cluster_b')),\n",
       " (8,\n",
       "  [{'Key': 'Name', 'Value': '0.single_gpu_mini.pytorch'}],\n",
       "  'i-0064ce9c4cbf2c320',\n",
       "  {'Code': 80, 'Name': 'stopped'},\n",
       "  'nexus-andrewshaw',\n",
       "  ec2.PlacementGroup(name='')),\n",
       " (9,\n",
       "  [{'Key': 'Name', 'Value': '2.cluster_8_region_c_spot.pytorch'}],\n",
       "  'i-0bf2a2280db3a2c4e',\n",
       "  {'Code': 64, 'Name': 'stopping'},\n",
       "  'nexus-andrewshaw',\n",
       "  ec2.PlacementGroup(name='pytorch_cluster_c')),\n",
       " (10,\n",
       "  [{'Key': 'Name', 'Value': '1.cluster_8_region_c_spot.pytorch'}],\n",
       "  'i-0a3738e7f4ae726c8',\n",
       "  {'Code': 64, 'Name': 'stopping'},\n",
       "  'nexus-andrewshaw',\n",
       "  ec2.PlacementGroup(name='pytorch_cluster_c')),\n",
       " (11,\n",
       "  [{'Key': 'Name', 'Value': '0.cluster_8_region_c_spot.pytorch'}],\n",
       "  'i-058acc54f56ab4a1a',\n",
       "  {'Code': 64, 'Name': 'stopping'},\n",
       "  'nexus-andrewshaw',\n",
       "  ec2.PlacementGroup(name='pytorch_cluster_c')),\n",
       " (12,\n",
       "  [{'Key': 'Name', 'Value': '6.cluster_8_region_c_spot.pytorch'}],\n",
       "  'i-0376515790d1a110b',\n",
       "  {'Code': 64, 'Name': 'stopping'},\n",
       "  'nexus-andrewshaw',\n",
       "  ec2.PlacementGroup(name='pytorch_cluster_c')),\n",
       " (13,\n",
       "  [{'Key': 'Name', 'Value': '5.cluster_8_region_c_spot.pytorch'}],\n",
       "  'i-07e3167bf69c39f3b',\n",
       "  {'Code': 64, 'Name': 'stopping'},\n",
       "  'nexus-andrewshaw',\n",
       "  ec2.PlacementGroup(name='pytorch_cluster_c')),\n",
       " (14,\n",
       "  [{'Key': 'Name', 'Value': '4.cluster_8_region_c_spot.pytorch'}],\n",
       "  'i-0e7524a5de374b836',\n",
       "  {'Code': 64, 'Name': 'stopping'},\n",
       "  'nexus-andrewshaw',\n",
       "  ec2.PlacementGroup(name='pytorch_cluster_c')),\n",
       " (15,\n",
       "  [{'Key': 'Name', 'Value': '3.cluster_8_region_c_spot.pytorch'}],\n",
       "  'i-0dce2d24586119e51',\n",
       "  {'Code': 64, 'Name': 'stopping'},\n",
       "  'nexus-andrewshaw',\n",
       "  ec2.PlacementGroup(name='pytorch_cluster_c')),\n",
       " (16,\n",
       "  [{'Key': 'Name', 'Value': '7.cluster_8_region_c_spot.pytorch'}],\n",
       "  'i-0f262fa81b611f87f',\n",
       "  {'Code': 64, 'Name': 'stopping'},\n",
       "  'nexus-andrewshaw',\n",
       "  ec2.PlacementGroup(name='pytorch_cluster_c'))]"
      ]
     },
     "execution_count": 338,
     "metadata": {},
     "output_type": "execute_result"
    }
   ],
   "source": [
    "# instances = list(ec2.instances.all())\n",
    "# my_instances = [i for i in instances if i.key_name == 'nexus-andrewshaw']\n",
    "# [(idx,i.tags, i.id, i.state, i.key_name, i.placement_group) for idx,i in enumerate(my_instances)]\n",
    "\n",
    "instances = list(ec2.instances.filter(Filters=[{'Name':'key-name', 'Values':['nexus-andrewshaw']},{'Name':'instance-state-name', 'Values':['running', 'stopped', 'stopping']}]))\n",
    "[(idx,i.tags, i.id, i.state, i.key_name, i.placement_group) for idx,i in enumerate(instances)]"
   ]
  },
  {
   "cell_type": "code",
   "execution_count": 336,
   "metadata": {},
   "outputs": [
    {
     "data": {
      "text/plain": [
       "[ec2.Instance(id='i-0bf2a2280db3a2c4e'),\n",
       " ec2.Instance(id='i-0a3738e7f4ae726c8'),\n",
       " ec2.Instance(id='i-058acc54f56ab4a1a'),\n",
       " ec2.Instance(id='i-0376515790d1a110b'),\n",
       " ec2.Instance(id='i-07e3167bf69c39f3b'),\n",
       " ec2.Instance(id='i-0e7524a5de374b836'),\n",
       " ec2.Instance(id='i-0dce2d24586119e51'),\n",
       " ec2.Instance(id='i-0f262fa81b611f87f')]"
      ]
     },
     "execution_count": 336,
     "metadata": {},
     "output_type": "execute_result"
    }
   ],
   "source": [
    "term_i = instances[9:]; term_i"
   ]
  },
  {
   "cell_type": "code",
   "execution_count": 337,
   "metadata": {},
   "outputs": [
    {
     "data": {
      "text/plain": [
       "[{'StoppingInstances': [{'CurrentState': {'Code': 64, 'Name': 'stopping'},\n",
       "    'InstanceId': 'i-0bf2a2280db3a2c4e',\n",
       "    'PreviousState': {'Code': 16, 'Name': 'running'}}],\n",
       "  'ResponseMetadata': {'RequestId': 'a46df018-6442-4ba0-b0e2-460e299a42d3',\n",
       "   'HTTPStatusCode': 200,\n",
       "   'HTTPHeaders': {'content-type': 'text/xml;charset=UTF-8',\n",
       "    'content-length': '579',\n",
       "    'date': 'Wed, 04 Jul 2018 14:17:37 GMT',\n",
       "    'server': 'AmazonEC2'},\n",
       "   'RetryAttempts': 0}},\n",
       " {'StoppingInstances': [{'CurrentState': {'Code': 64, 'Name': 'stopping'},\n",
       "    'InstanceId': 'i-0a3738e7f4ae726c8',\n",
       "    'PreviousState': {'Code': 16, 'Name': 'running'}}],\n",
       "  'ResponseMetadata': {'RequestId': '93e72418-f990-4fd8-a1d5-1f4e9fa53631',\n",
       "   'HTTPStatusCode': 200,\n",
       "   'HTTPHeaders': {'content-type': 'text/xml;charset=UTF-8',\n",
       "    'content-length': '579',\n",
       "    'date': 'Wed, 04 Jul 2018 14:17:37 GMT',\n",
       "    'server': 'AmazonEC2'},\n",
       "   'RetryAttempts': 0}},\n",
       " {'StoppingInstances': [{'CurrentState': {'Code': 64, 'Name': 'stopping'},\n",
       "    'InstanceId': 'i-058acc54f56ab4a1a',\n",
       "    'PreviousState': {'Code': 16, 'Name': 'running'}}],\n",
       "  'ResponseMetadata': {'RequestId': '69ac15a6-0698-4c2c-9474-881d6b988fa9',\n",
       "   'HTTPStatusCode': 200,\n",
       "   'HTTPHeaders': {'content-type': 'text/xml;charset=UTF-8',\n",
       "    'content-length': '579',\n",
       "    'date': 'Wed, 04 Jul 2018 14:17:38 GMT',\n",
       "    'server': 'AmazonEC2'},\n",
       "   'RetryAttempts': 0}},\n",
       " {'StoppingInstances': [{'CurrentState': {'Code': 64, 'Name': 'stopping'},\n",
       "    'InstanceId': 'i-0376515790d1a110b',\n",
       "    'PreviousState': {'Code': 16, 'Name': 'running'}}],\n",
       "  'ResponseMetadata': {'RequestId': '48594049-3c2e-48ce-8fa1-f52e0149e5f5',\n",
       "   'HTTPStatusCode': 200,\n",
       "   'HTTPHeaders': {'content-type': 'text/xml;charset=UTF-8',\n",
       "    'content-length': '579',\n",
       "    'date': 'Wed, 04 Jul 2018 14:17:38 GMT',\n",
       "    'server': 'AmazonEC2'},\n",
       "   'RetryAttempts': 0}},\n",
       " {'StoppingInstances': [{'CurrentState': {'Code': 64, 'Name': 'stopping'},\n",
       "    'InstanceId': 'i-07e3167bf69c39f3b',\n",
       "    'PreviousState': {'Code': 16, 'Name': 'running'}}],\n",
       "  'ResponseMetadata': {'RequestId': '237740e9-7322-4577-a6d8-e23e16e8a7a0',\n",
       "   'HTTPStatusCode': 200,\n",
       "   'HTTPHeaders': {'content-type': 'text/xml;charset=UTF-8',\n",
       "    'content-length': '579',\n",
       "    'date': 'Wed, 04 Jul 2018 14:17:38 GMT',\n",
       "    'server': 'AmazonEC2'},\n",
       "   'RetryAttempts': 0}},\n",
       " {'StoppingInstances': [{'CurrentState': {'Code': 64, 'Name': 'stopping'},\n",
       "    'InstanceId': 'i-0e7524a5de374b836',\n",
       "    'PreviousState': {'Code': 16, 'Name': 'running'}}],\n",
       "  'ResponseMetadata': {'RequestId': '0614994b-878a-4ff7-8c4a-800210708b9e',\n",
       "   'HTTPStatusCode': 200,\n",
       "   'HTTPHeaders': {'content-type': 'text/xml;charset=UTF-8',\n",
       "    'content-length': '579',\n",
       "    'date': 'Wed, 04 Jul 2018 14:17:38 GMT',\n",
       "    'server': 'AmazonEC2'},\n",
       "   'RetryAttempts': 0}},\n",
       " {'StoppingInstances': [{'CurrentState': {'Code': 64, 'Name': 'stopping'},\n",
       "    'InstanceId': 'i-0dce2d24586119e51',\n",
       "    'PreviousState': {'Code': 16, 'Name': 'running'}}],\n",
       "  'ResponseMetadata': {'RequestId': '8e42f07b-0f03-49cb-99fc-8f7d7dd228a7',\n",
       "   'HTTPStatusCode': 200,\n",
       "   'HTTPHeaders': {'content-type': 'text/xml;charset=UTF-8',\n",
       "    'content-length': '579',\n",
       "    'date': 'Wed, 04 Jul 2018 14:17:39 GMT',\n",
       "    'server': 'AmazonEC2'},\n",
       "   'RetryAttempts': 0}},\n",
       " {'StoppingInstances': [{'CurrentState': {'Code': 64, 'Name': 'stopping'},\n",
       "    'InstanceId': 'i-0f262fa81b611f87f',\n",
       "    'PreviousState': {'Code': 16, 'Name': 'running'}}],\n",
       "  'ResponseMetadata': {'RequestId': '136cbf6e-cd71-4b12-9cfd-7d8803259361',\n",
       "   'HTTPStatusCode': 200,\n",
       "   'HTTPHeaders': {'content-type': 'text/xml;charset=UTF-8',\n",
       "    'content-length': '579',\n",
       "    'date': 'Wed, 04 Jul 2018 14:17:39 GMT',\n",
       "    'server': 'AmazonEC2'},\n",
       "   'RetryAttempts': 0}}]"
      ]
     },
     "execution_count": 337,
     "metadata": {},
     "output_type": "execute_result"
    }
   ],
   "source": [
    "[i.stop() for i in term_i]"
   ]
  },
  {
   "cell_type": "code",
   "execution_count": 294,
   "metadata": {},
   "outputs": [],
   "source": [
    "i = instances[0]"
   ]
  },
  {
   "cell_type": "code",
   "execution_count": 295,
   "metadata": {},
   "outputs": [
    {
     "data": {
      "text/plain": [
       "('t2.large',\n",
       " 'aws_pach_api_service_prod',\n",
       " [{'Key': 'Name', 'Value': 'api_service_prod'}],\n",
       " '34.214.244.183')"
      ]
     },
     "execution_count": 295,
     "metadata": {},
     "output_type": "execute_result"
    }
   ],
   "source": [
    "i.instance_type, i.key_name, i.tags, i.public_ip_address"
   ]
  },
  {
   "cell_type": "code",
   "execution_count": 235,
   "metadata": {},
   "outputs": [
    {
     "data": {
      "text/plain": [
       "(14000, 1000)"
      ]
     },
     "execution_count": 235,
     "metadata": {},
     "output_type": "execute_result"
    }
   ],
   "source": [
    "v = list(i.volumes.all())[0]; v.iops, v.size"
   ]
  },
  {
   "cell_type": "code",
   "execution_count": 245,
   "metadata": {},
   "outputs": [
    {
     "data": {
      "text/plain": [
       "{'TerminatingInstances': [{'CurrentState': {'Code': 32,\n",
       "    'Name': 'shutting-down'},\n",
       "   'InstanceId': 'i-0ce82629e2e1ca365',\n",
       "   'PreviousState': {'Code': 16, 'Name': 'running'}}],\n",
       " 'ResponseMetadata': {'RequestId': '076cb41a-e08b-48aa-b95f-90a673463b89',\n",
       "  'HTTPStatusCode': 200,\n",
       "  'HTTPHeaders': {'content-type': 'text/xml;charset=UTF-8',\n",
       "   'transfer-encoding': 'chunked',\n",
       "   'vary': 'Accept-Encoding',\n",
       "   'date': 'Tue, 03 Jul 2018 00:29:04 GMT',\n",
       "   'server': 'AmazonEC2'},\n",
       "  'RetryAttempts': 0}}"
      ]
     },
     "execution_count": 245,
     "metadata": {},
     "output_type": "execute_result"
    }
   ],
   "source": [
    "i.terminate()"
   ]
  },
  {
   "cell_type": "code",
   "execution_count": 171,
   "metadata": {},
   "outputs": [
    {
     "data": {
      "text/plain": [
       "[ec2.Tag(resource_id='i-0851d8c29108b3dc4', key='Name', value='6.cluster_8_region_c_spot.pytorch')]"
      ]
     },
     "execution_count": 171,
     "metadata": {},
     "output_type": "execute_result"
    }
   ],
   "source": [
    "i.create_tags(Tags=[{'Key':'Name','Value':'6.cluster_8_region_c_spot.pytorch'}])"
   ]
  },
  {
   "cell_type": "markdown",
   "metadata": {},
   "source": [
    "## Create Image"
   ]
  },
  {
   "cell_type": "code",
   "execution_count": 291,
   "metadata": {},
   "outputs": [
    {
     "data": {
      "text/plain": [
       "[(0,\n",
       "  None,\n",
       "  'i-057046cd086aa9ffc',\n",
       "  {'Code': 48, 'Name': 'terminated'},\n",
       "  'nexus-andrewshaw'),\n",
       " (1,\n",
       "  None,\n",
       "  'i-0167b3a8808179c4b',\n",
       "  {'Code': 48, 'Name': 'terminated'},\n",
       "  'nexus-andrewshaw'),\n",
       " (2,\n",
       "  [{'Key': 'Name', 'Value': '0.single_gpu.pytorch'}],\n",
       "  'i-011293eb8f3acb99e',\n",
       "  {'Code': 48, 'Name': 'terminated'},\n",
       "  'nexus-andrewshaw'),\n",
       " (3,\n",
       "  [{'Key': 'Name', 'Value': '0.single_gpu_mini.pytorch'}],\n",
       "  'i-0064ce9c4cbf2c320',\n",
       "  {'Code': 16, 'Name': 'running'},\n",
       "  'nexus-andrewshaw')]"
      ]
     },
     "execution_count": 291,
     "metadata": {},
     "output_type": "execute_result"
    }
   ],
   "source": [
    "instances = list(ec2.instances.all())\n",
    "my_instances = [i for i in instances if i.key_name == 'nexus-andrewshaw']\n",
    "[(idx,i.tags, i.id, i.state, i.key_name) for idx,i in enumerate(my_instances)]"
   ]
  },
  {
   "cell_type": "code",
   "execution_count": 279,
   "metadata": {},
   "outputs": [],
   "source": [
    "i = my_instances[3]"
   ]
  },
  {
   "cell_type": "code",
   "execution_count": 280,
   "metadata": {},
   "outputs": [
    {
     "data": {
      "text/plain": [
       "('i-0064ce9c4cbf2c320',\n",
       " [{'Key': 'Name', 'Value': '0.single_gpu_mini.pytorch'}])"
      ]
     },
     "execution_count": 280,
     "metadata": {},
     "output_type": "execute_result"
    }
   ],
   "source": [
    "i.id, i.tags"
   ]
  },
  {
   "cell_type": "code",
   "execution_count": 282,
   "metadata": {},
   "outputs": [],
   "source": [
    "client = u.create_ec2_client()\n",
    "response = client.create_image(\n",
    "    Description='Imagenet Pytorch Source - 9.2',\n",
    "#     DryRun=True,\n",
    "    InstanceId='i-0064ce9c4cbf2c320',\n",
    "    Name='pytorch.imagenet.source.v2'\n",
    ")"
   ]
  },
  {
   "cell_type": "code",
   "execution_count": 283,
   "metadata": {},
   "outputs": [
    {
     "data": {
      "text/plain": [
       "{'ImageId': 'ami-6583d71d',\n",
       " 'ResponseMetadata': {'RequestId': '323abcd0-ad0c-40f1-9e91-2260da94dec7',\n",
       "  'HTTPStatusCode': 200,\n",
       "  'HTTPHeaders': {'content-type': 'text/xml;charset=UTF-8',\n",
       "   'transfer-encoding': 'chunked',\n",
       "   'vary': 'Accept-Encoding',\n",
       "   'date': 'Tue, 03 Jul 2018 18:56:49 GMT',\n",
       "   'server': 'AmazonEC2'},\n",
       "  'RetryAttempts': 0}}"
      ]
     },
     "execution_count": 283,
     "metadata": {},
     "output_type": "execute_result"
    }
   ],
   "source": [
    "response"
   ]
  },
  {
   "cell_type": "code",
   "execution_count": 311,
   "metadata": {},
   "outputs": [
    {
     "data": {
      "text/plain": [
       "[('ami-47e04e3f', 'cifar10-ubuntu', None, 'available'),\n",
       " ('ami-4c56f934', 'cifar10', None, 'available'),\n",
       " ('ami-53c8822b', 'pytorch.imagenet', None, 'available'),\n",
       " ('ami-60df1418', 'cuda8', None, 'available'),\n",
       " ('ami-6583d71d', 'pytorch.imagenet.source.v2', None, 'available'),\n",
       " ('ami-9bf125e3', 'boyd-dtach', None, 'available'),\n",
       " ('ami-9ddb0fe5', 'boyd-base', None, 'available')]"
      ]
     },
     "execution_count": 311,
     "metadata": {},
     "output_type": "execute_result"
    }
   ],
   "source": [
    "images = list(ec2.images.filter(Owners=['self']))\n",
    "[(img.id, img.name, img.tags, img.state) for img in images]"
   ]
  },
  {
   "cell_type": "code",
   "execution_count": 286,
   "metadata": {},
   "outputs": [],
   "source": [
    "img = images[4]"
   ]
  },
  {
   "cell_type": "code",
   "execution_count": 287,
   "metadata": {},
   "outputs": [
    {
     "data": {
      "text/plain": [
       "'pytorch.imagenet.source.v2'"
      ]
     },
     "execution_count": 287,
     "metadata": {},
     "output_type": "execute_result"
    }
   ],
   "source": [
    "img.name"
   ]
  },
  {
   "cell_type": "markdown",
   "metadata": {},
   "source": [
    "## Volume stuff"
   ]
  },
  {
   "cell_type": "code",
   "execution_count": 182,
   "metadata": {},
   "outputs": [
    {
     "data": {
      "text/plain": [
       "[(0,\n",
       "  [{'Key': 'Name', 'Value': 'imagenet_high_perf_0'}],\n",
       "  [{'AttachTime': datetime.datetime(2018, 7, 2, 5, 40, 48, tzinfo=tzutc()),\n",
       "    'Device': '/dev/xvdf',\n",
       "    'InstanceId': 'i-0851d8c29108b3dc4',\n",
       "    'State': 'busy',\n",
       "    'VolumeId': 'vol-09d766cb875f5eb19',\n",
       "    'DeleteOnTermination': False}],\n",
       "  15000),\n",
       " (1,\n",
       "  None,\n",
       "  [{'AttachTime': datetime.datetime(2018, 6, 30, 4, 12, 10, tzinfo=tzutc()),\n",
       "    'Device': '/dev/sda1',\n",
       "    'InstanceId': 'i-063e8f22cc3c863ca',\n",
       "    'State': 'attached',\n",
       "    'VolumeId': 'vol-0f3bb4fb51985620e',\n",
       "    'DeleteOnTermination': True}],\n",
       "  14000),\n",
       " (2,\n",
       "  None,\n",
       "  [{'AttachTime': datetime.datetime(2018, 6, 30, 4, 12, 10, tzinfo=tzutc()),\n",
       "    'Device': '/dev/sda1',\n",
       "    'InstanceId': 'i-021887be2329370bf',\n",
       "    'State': 'attached',\n",
       "    'VolumeId': 'vol-0a4d56ad641994ed3',\n",
       "    'DeleteOnTermination': True}],\n",
       "  14000),\n",
       " (3,\n",
       "  None,\n",
       "  [{'AttachTime': datetime.datetime(2018, 6, 30, 4, 12, 10, tzinfo=tzutc()),\n",
       "    'Device': '/dev/sda1',\n",
       "    'InstanceId': 'i-0ab1849198c95816e',\n",
       "    'State': 'attached',\n",
       "    'VolumeId': 'vol-0adfa262922d69ed6',\n",
       "    'DeleteOnTermination': True}],\n",
       "  14000),\n",
       " (4, [{'Key': 'Name', 'Value': 'imagenet_high_perf_1'}], [], 15000),\n",
       " (5, [{'Key': 'Name', 'Value': 'imagenet_high_perf_2'}], [], 15000),\n",
       " (6, [{'Key': 'Name', 'Value': 'imagenet_high_perf_3'}], [], 15000),\n",
       " (7, [{'Key': 'Name', 'Value': 'imagenet_high_perf_5'}], [], 15000),\n",
       " (8, [{'Key': 'Name', 'Value': 'imagenet_high_perf_7'}], [], 15000),\n",
       " (9, [{'Key': 'Name', 'Value': 'imagenet_high_perf_4'}], [], 15000),\n",
       " (10, [{'Key': 'Name', 'Value': 'imagenet_high_perf_6'}], [], 15000),\n",
       " (11,\n",
       "  None,\n",
       "  [{'AttachTime': datetime.datetime(2018, 7, 2, 5, 25, 37, tzinfo=tzutc()),\n",
       "    'Device': '/dev/sda1',\n",
       "    'InstanceId': 'i-008055d98aa4faa69',\n",
       "    'State': 'attached',\n",
       "    'VolumeId': 'vol-02d95b192ee27b19a',\n",
       "    'DeleteOnTermination': True}],\n",
       "  14000),\n",
       " (12,\n",
       "  None,\n",
       "  [{'AttachTime': datetime.datetime(2018, 7, 2, 5, 25, 37, tzinfo=tzutc()),\n",
       "    'Device': '/dev/sda1',\n",
       "    'InstanceId': 'i-07fbf3e4e888ccf80',\n",
       "    'State': 'attached',\n",
       "    'VolumeId': 'vol-0beb3314d59b0a449',\n",
       "    'DeleteOnTermination': True}],\n",
       "  14000),\n",
       " (13,\n",
       "  None,\n",
       "  [{'AttachTime': datetime.datetime(2018, 7, 2, 5, 25, 37, tzinfo=tzutc()),\n",
       "    'Device': '/dev/sda1',\n",
       "    'InstanceId': 'i-0abee85617ceb315a',\n",
       "    'State': 'attached',\n",
       "    'VolumeId': 'vol-0aba44301757c36ae',\n",
       "    'DeleteOnTermination': True}],\n",
       "  14000),\n",
       " (14,\n",
       "  None,\n",
       "  [{'AttachTime': datetime.datetime(2018, 7, 2, 5, 25, 37, tzinfo=tzutc()),\n",
       "    'Device': '/dev/sda1',\n",
       "    'InstanceId': 'i-0d0de865f9f6f6fca',\n",
       "    'State': 'attached',\n",
       "    'VolumeId': 'vol-0952952e204dc579f',\n",
       "    'DeleteOnTermination': True}],\n",
       "  14000),\n",
       " (15,\n",
       "  None,\n",
       "  [{'AttachTime': datetime.datetime(2018, 7, 2, 5, 25, 37, tzinfo=tzutc()),\n",
       "    'Device': '/dev/sda1',\n",
       "    'InstanceId': 'i-0ab65b27a0bdc5cff',\n",
       "    'State': 'attached',\n",
       "    'VolumeId': 'vol-060457aa6655aa0f5',\n",
       "    'DeleteOnTermination': True}],\n",
       "  14000),\n",
       " (16,\n",
       "  None,\n",
       "  [{'AttachTime': datetime.datetime(2018, 7, 2, 5, 35, 6, tzinfo=tzutc()),\n",
       "    'Device': '/dev/sda1',\n",
       "    'InstanceId': 'i-0d97b1e9f022ed2f3',\n",
       "    'State': 'attached',\n",
       "    'VolumeId': 'vol-06d288eed4ddef72f',\n",
       "    'DeleteOnTermination': True}],\n",
       "  14000),\n",
       " (17,\n",
       "  None,\n",
       "  [{'AttachTime': datetime.datetime(2018, 7, 2, 5, 35, 6, tzinfo=tzutc()),\n",
       "    'Device': '/dev/sda1',\n",
       "    'InstanceId': 'i-0ff0ebd99d9e74bb5',\n",
       "    'State': 'attached',\n",
       "    'VolumeId': 'vol-06bfb973f245b0298',\n",
       "    'DeleteOnTermination': True}],\n",
       "  14000),\n",
       " (18,\n",
       "  None,\n",
       "  [{'AttachTime': datetime.datetime(2018, 7, 2, 5, 39, 11, tzinfo=tzutc()),\n",
       "    'Device': '/dev/sda1',\n",
       "    'InstanceId': 'i-0851d8c29108b3dc4',\n",
       "    'State': 'attached',\n",
       "    'VolumeId': 'vol-05e3941df7996cdb3',\n",
       "    'DeleteOnTermination': True}],\n",
       "  14000),\n",
       " (19,\n",
       "  None,\n",
       "  [{'AttachTime': datetime.datetime(2018, 1, 19, 15, 6, 3, tzinfo=tzutc()),\n",
       "    'Device': '/dev/sda1',\n",
       "    'InstanceId': 'i-0192f92339cf687dd',\n",
       "    'State': 'attached',\n",
       "    'VolumeId': 'vol-0b83ee8521debb6cb',\n",
       "    'DeleteOnTermination': True}],\n",
       "  1050),\n",
       " (20,\n",
       "  None,\n",
       "  [{'AttachTime': datetime.datetime(2018, 1, 19, 15, 6, 3, tzinfo=tzutc()),\n",
       "    'Device': '/dev/sda1',\n",
       "    'InstanceId': 'i-0dd4f0619f9b9e001',\n",
       "    'State': 'attached',\n",
       "    'VolumeId': 'vol-04d8e8850d54b4d99',\n",
       "    'DeleteOnTermination': True}],\n",
       "  1050),\n",
       " (21,\n",
       "  None,\n",
       "  [{'AttachTime': datetime.datetime(2018, 1, 19, 15, 6, 3, tzinfo=tzutc()),\n",
       "    'Device': '/dev/sda1',\n",
       "    'InstanceId': 'i-097415dceb63b0a9b',\n",
       "    'State': 'attached',\n",
       "    'VolumeId': 'vol-01c45cf17280be634',\n",
       "    'DeleteOnTermination': True}],\n",
       "  1050),\n",
       " (22,\n",
       "  [{'Key': 'Name', 'Value': 'processing'}],\n",
       "  [{'AttachTime': datetime.datetime(2018, 2, 2, 0, 27, 6, tzinfo=tzutc()),\n",
       "    'Device': '/dev/sda1',\n",
       "    'InstanceId': 'i-07ccb5ebf38de8829',\n",
       "    'State': 'attached',\n",
       "    'VolumeId': 'vol-0e0b6d22a8c40f270',\n",
       "    'DeleteOnTermination': True}],\n",
       "  450),\n",
       " (23,\n",
       "  None,\n",
       "  [{'AttachTime': datetime.datetime(2018, 3, 11, 3, 5, 26, tzinfo=tzutc()),\n",
       "    'Device': '/dev/sda1',\n",
       "    'InstanceId': 'i-08a70701022714d40',\n",
       "    'State': 'attached',\n",
       "    'VolumeId': 'vol-093247a3a8a5fa9ed',\n",
       "    'DeleteOnTermination': True}],\n",
       "  225),\n",
       " (24,\n",
       "  None,\n",
       "  [{'AttachTime': datetime.datetime(2018, 6, 28, 18, 38, 7, tzinfo=tzutc()),\n",
       "    'Device': '/dev/sda1',\n",
       "    'InstanceId': 'i-011293eb8f3acb99e',\n",
       "    'State': 'attached',\n",
       "    'VolumeId': 'vol-0eada9572ea0365bf',\n",
       "    'DeleteOnTermination': True}],\n",
       "  5000),\n",
       " (25,\n",
       "  None,\n",
       "  [{'AttachTime': datetime.datetime(2018, 1, 12, 21, 10, 17, tzinfo=tzutc()),\n",
       "    'Device': '/dev/sda1',\n",
       "    'InstanceId': 'i-0f9e4464d8caed915',\n",
       "    'State': 'attached',\n",
       "    'VolumeId': 'vol-05748da98a0306c17',\n",
       "    'DeleteOnTermination': True}],\n",
       "  100),\n",
       " (26,\n",
       "  None,\n",
       "  [{'AttachTime': datetime.datetime(2018, 6, 25, 22, 36, 43, tzinfo=tzutc()),\n",
       "    'Device': '/dev/sda1',\n",
       "    'InstanceId': 'i-0cb94f34da4a68520',\n",
       "    'State': 'attached',\n",
       "    'VolumeId': 'vol-07eb93d4654726dc8',\n",
       "    'DeleteOnTermination': True}],\n",
       "  225),\n",
       " (27,\n",
       "  None,\n",
       "  [{'AttachTime': datetime.datetime(2018, 6, 26, 0, 27, 36, tzinfo=tzutc()),\n",
       "    'Device': '/dev/sda1',\n",
       "    'InstanceId': 'i-040fc6cfd80d016ca',\n",
       "    'State': 'attached',\n",
       "    'VolumeId': 'vol-050416170aeda9c2c',\n",
       "    'DeleteOnTermination': True}],\n",
       "  225)]"
      ]
     },
     "execution_count": 182,
     "metadata": {},
     "output_type": "execute_result"
    }
   ],
   "source": [
    "volumes = list(ec2.volumes.all());\n",
    "[(i, v.tags, v.attachments, v.iops) for i,v in enumerate(volumes)]"
   ]
  },
  {
   "cell_type": "code",
   "execution_count": 175,
   "metadata": {},
   "outputs": [],
   "source": [
    "v = volumes[0]"
   ]
  },
  {
   "cell_type": "code",
   "execution_count": 176,
   "metadata": {},
   "outputs": [
    {
     "data": {
      "text/plain": [
       "'us-west-2c'"
      ]
     },
     "execution_count": 176,
     "metadata": {},
     "output_type": "execute_result"
    }
   ],
   "source": [
    "v.availability_zone"
   ]
  },
  {
   "cell_type": "code",
   "execution_count": 177,
   "metadata": {},
   "outputs": [
    {
     "data": {
      "text/plain": [
       "[{'Key': 'Name', 'Value': 'imagenet_high_perf_0'}]"
      ]
     },
     "execution_count": 177,
     "metadata": {},
     "output_type": "execute_result"
    }
   ],
   "source": [
    "v.tags"
   ]
  },
  {
   "cell_type": "code",
   "execution_count": 183,
   "metadata": {},
   "outputs": [
    {
     "ename": "ClientError",
     "evalue": "An error occurred (VolumeInUse) when calling the DeleteVolume operation: Volume vol-09d766cb875f5eb19 is currently attached to i-0851d8c29108b3dc4",
     "output_type": "error",
     "traceback": [
      "\u001b[0;31m---------------------------------------------------------------------------\u001b[0m",
      "\u001b[0;31mClientError\u001b[0m                               Traceback (most recent call last)",
      "\u001b[0;32m<ipython-input-183-ace7adf30fb4>\u001b[0m in \u001b[0;36m<module>\u001b[0;34m()\u001b[0m\n\u001b[0;32m----> 1\u001b[0;31m \u001b[0mv\u001b[0m\u001b[0;34m.\u001b[0m\u001b[0mdelete\u001b[0m\u001b[0;34m(\u001b[0m\u001b[0;34m)\u001b[0m\u001b[0;34m\u001b[0m\u001b[0m\n\u001b[0m",
      "\u001b[0;32m~/miniconda3/envs/gpubox/lib/python3.6/site-packages/boto3/resources/factory.py\u001b[0m in \u001b[0;36mdo_action\u001b[0;34m(self, *args, **kwargs)\u001b[0m\n\u001b[1;32m    518\u001b[0m             \u001b[0;31m# instance via ``self``.\u001b[0m\u001b[0;34m\u001b[0m\u001b[0;34m\u001b[0m\u001b[0m\n\u001b[1;32m    519\u001b[0m             \u001b[0;32mdef\u001b[0m \u001b[0mdo_action\u001b[0m\u001b[0;34m(\u001b[0m\u001b[0mself\u001b[0m\u001b[0;34m,\u001b[0m \u001b[0;34m*\u001b[0m\u001b[0margs\u001b[0m\u001b[0;34m,\u001b[0m \u001b[0;34m**\u001b[0m\u001b[0mkwargs\u001b[0m\u001b[0;34m)\u001b[0m\u001b[0;34m:\u001b[0m\u001b[0;34m\u001b[0m\u001b[0m\n\u001b[0;32m--> 520\u001b[0;31m                 \u001b[0mresponse\u001b[0m \u001b[0;34m=\u001b[0m \u001b[0maction\u001b[0m\u001b[0;34m(\u001b[0m\u001b[0mself\u001b[0m\u001b[0;34m,\u001b[0m \u001b[0;34m*\u001b[0m\u001b[0margs\u001b[0m\u001b[0;34m,\u001b[0m \u001b[0;34m**\u001b[0m\u001b[0mkwargs\u001b[0m\u001b[0;34m)\u001b[0m\u001b[0;34m\u001b[0m\u001b[0m\n\u001b[0m\u001b[1;32m    521\u001b[0m \u001b[0;34m\u001b[0m\u001b[0m\n\u001b[1;32m    522\u001b[0m                 \u001b[0;32mif\u001b[0m \u001b[0mhasattr\u001b[0m\u001b[0;34m(\u001b[0m\u001b[0mself\u001b[0m\u001b[0;34m,\u001b[0m \u001b[0;34m'load'\u001b[0m\u001b[0;34m)\u001b[0m\u001b[0;34m:\u001b[0m\u001b[0;34m\u001b[0m\u001b[0m\n",
      "\u001b[0;32m~/miniconda3/envs/gpubox/lib/python3.6/site-packages/boto3/resources/action.py\u001b[0m in \u001b[0;36m__call__\u001b[0;34m(self, parent, *args, **kwargs)\u001b[0m\n\u001b[1;32m     81\u001b[0m                     operation_name, params)\n\u001b[1;32m     82\u001b[0m \u001b[0;34m\u001b[0m\u001b[0m\n\u001b[0;32m---> 83\u001b[0;31m         \u001b[0mresponse\u001b[0m \u001b[0;34m=\u001b[0m \u001b[0mgetattr\u001b[0m\u001b[0;34m(\u001b[0m\u001b[0mparent\u001b[0m\u001b[0;34m.\u001b[0m\u001b[0mmeta\u001b[0m\u001b[0;34m.\u001b[0m\u001b[0mclient\u001b[0m\u001b[0;34m,\u001b[0m \u001b[0moperation_name\u001b[0m\u001b[0;34m)\u001b[0m\u001b[0;34m(\u001b[0m\u001b[0;34m**\u001b[0m\u001b[0mparams\u001b[0m\u001b[0;34m)\u001b[0m\u001b[0;34m\u001b[0m\u001b[0m\n\u001b[0m\u001b[1;32m     84\u001b[0m \u001b[0;34m\u001b[0m\u001b[0m\n\u001b[1;32m     85\u001b[0m         \u001b[0mlogger\u001b[0m\u001b[0;34m.\u001b[0m\u001b[0mdebug\u001b[0m\u001b[0;34m(\u001b[0m\u001b[0;34m'Response: %r'\u001b[0m\u001b[0;34m,\u001b[0m \u001b[0mresponse\u001b[0m\u001b[0;34m)\u001b[0m\u001b[0;34m\u001b[0m\u001b[0m\n",
      "\u001b[0;32m~/miniconda3/envs/gpubox/lib/python3.6/site-packages/botocore/client.py\u001b[0m in \u001b[0;36m_api_call\u001b[0;34m(self, *args, **kwargs)\u001b[0m\n\u001b[1;32m    312\u001b[0m                     \"%s() only accepts keyword arguments.\" % py_operation_name)\n\u001b[1;32m    313\u001b[0m             \u001b[0;31m# The \"self\" in this scope is referring to the BaseClient.\u001b[0m\u001b[0;34m\u001b[0m\u001b[0;34m\u001b[0m\u001b[0m\n\u001b[0;32m--> 314\u001b[0;31m             \u001b[0;32mreturn\u001b[0m \u001b[0mself\u001b[0m\u001b[0;34m.\u001b[0m\u001b[0m_make_api_call\u001b[0m\u001b[0;34m(\u001b[0m\u001b[0moperation_name\u001b[0m\u001b[0;34m,\u001b[0m \u001b[0mkwargs\u001b[0m\u001b[0;34m)\u001b[0m\u001b[0;34m\u001b[0m\u001b[0m\n\u001b[0m\u001b[1;32m    315\u001b[0m \u001b[0;34m\u001b[0m\u001b[0m\n\u001b[1;32m    316\u001b[0m         \u001b[0m_api_call\u001b[0m\u001b[0;34m.\u001b[0m\u001b[0m__name__\u001b[0m \u001b[0;34m=\u001b[0m \u001b[0mstr\u001b[0m\u001b[0;34m(\u001b[0m\u001b[0mpy_operation_name\u001b[0m\u001b[0;34m)\u001b[0m\u001b[0;34m\u001b[0m\u001b[0m\n",
      "\u001b[0;32m~/miniconda3/envs/gpubox/lib/python3.6/site-packages/botocore/client.py\u001b[0m in \u001b[0;36m_make_api_call\u001b[0;34m(self, operation_name, api_params)\u001b[0m\n\u001b[1;32m    610\u001b[0m             \u001b[0merror_code\u001b[0m \u001b[0;34m=\u001b[0m \u001b[0mparsed_response\u001b[0m\u001b[0;34m.\u001b[0m\u001b[0mget\u001b[0m\u001b[0;34m(\u001b[0m\u001b[0;34m\"Error\"\u001b[0m\u001b[0;34m,\u001b[0m \u001b[0;34m{\u001b[0m\u001b[0;34m}\u001b[0m\u001b[0;34m)\u001b[0m\u001b[0;34m.\u001b[0m\u001b[0mget\u001b[0m\u001b[0;34m(\u001b[0m\u001b[0;34m\"Code\"\u001b[0m\u001b[0;34m)\u001b[0m\u001b[0;34m\u001b[0m\u001b[0m\n\u001b[1;32m    611\u001b[0m             \u001b[0merror_class\u001b[0m \u001b[0;34m=\u001b[0m \u001b[0mself\u001b[0m\u001b[0;34m.\u001b[0m\u001b[0mexceptions\u001b[0m\u001b[0;34m.\u001b[0m\u001b[0mfrom_code\u001b[0m\u001b[0;34m(\u001b[0m\u001b[0merror_code\u001b[0m\u001b[0;34m)\u001b[0m\u001b[0;34m\u001b[0m\u001b[0m\n\u001b[0;32m--> 612\u001b[0;31m             \u001b[0;32mraise\u001b[0m \u001b[0merror_class\u001b[0m\u001b[0;34m(\u001b[0m\u001b[0mparsed_response\u001b[0m\u001b[0;34m,\u001b[0m \u001b[0moperation_name\u001b[0m\u001b[0;34m)\u001b[0m\u001b[0;34m\u001b[0m\u001b[0m\n\u001b[0m\u001b[1;32m    613\u001b[0m         \u001b[0;32melse\u001b[0m\u001b[0;34m:\u001b[0m\u001b[0;34m\u001b[0m\u001b[0m\n\u001b[1;32m    614\u001b[0m             \u001b[0;32mreturn\u001b[0m \u001b[0mparsed_response\u001b[0m\u001b[0;34m\u001b[0m\u001b[0m\n",
      "\u001b[0;31mClientError\u001b[0m: An error occurred (VolumeInUse) when calling the DeleteVolume operation: Volume vol-09d766cb875f5eb19 is currently attached to i-0851d8c29108b3dc4"
     ]
    }
   ],
   "source": [
    "v.delete()"
   ]
  },
  {
   "cell_type": "markdown",
   "metadata": {},
   "source": [
    "### Modify volume"
   ]
  },
  {
   "cell_type": "code",
   "execution_count": 512,
   "metadata": {},
   "outputs": [],
   "source": [
    "v = volumes[12]"
   ]
  },
  {
   "cell_type": "code",
   "execution_count": 513,
   "metadata": {},
   "outputs": [
    {
     "data": {
      "text/plain": [
       "(26000, [{'Key': 'Name', 'Value': 'imagenet_high_perf_3'}])"
      ]
     },
     "execution_count": 513,
     "metadata": {},
     "output_type": "execute_result"
    }
   ],
   "source": [
    "v.iops, v.tags"
   ]
  },
  {
   "cell_type": "code",
   "execution_count": 500,
   "metadata": {},
   "outputs": [
    {
     "data": {
      "text/plain": [
       "[ec2.Tag(resource_id='vol-0581817db900cce84', key='Name', value='imagenet_high_perf_0')]"
      ]
     },
     "execution_count": 500,
     "metadata": {},
     "output_type": "execute_result"
    }
   ],
   "source": [
    "# v.create_tags(Tags=[{'Key':'Name','Value':'imagenet_high_perf_0'}])"
   ]
  },
  {
   "cell_type": "code",
   "execution_count": 505,
   "metadata": {},
   "outputs": [],
   "source": [
    "client = u.create_ec2_client()"
   ]
  },
  {
   "cell_type": "code",
   "execution_count": 514,
   "metadata": {},
   "outputs": [
    {
     "data": {
      "text/plain": [
       "{'VolumeModification': {'VolumeId': 'vol-0cdb5b6174ae1eeab',\n",
       "  'ModificationState': 'modifying',\n",
       "  'TargetSize': 800,\n",
       "  'TargetIops': 20000,\n",
       "  'TargetVolumeType': 'io1',\n",
       "  'OriginalSize': 800,\n",
       "  'OriginalIops': 26000,\n",
       "  'OriginalVolumeType': 'io1',\n",
       "  'Progress': 0,\n",
       "  'StartTime': datetime.datetime(2018, 6, 30, 0, 11, 37, tzinfo=tzutc())},\n",
       " 'ResponseMetadata': {'RequestId': '0495ac5f-4836-43fa-bb75-1ff1bf332570',\n",
       "  'HTTPStatusCode': 200,\n",
       "  'HTTPHeaders': {'content-type': 'text/xml;charset=UTF-8',\n",
       "   'transfer-encoding': 'chunked',\n",
       "   'vary': 'Accept-Encoding',\n",
       "   'date': 'Sat, 30 Jun 2018 00:11:36 GMT',\n",
       "   'server': 'AmazonEC2'},\n",
       "  'RetryAttempts': 0}}"
      ]
     },
     "execution_count": 514,
     "metadata": {},
     "output_type": "execute_result"
    }
   ],
   "source": [
    "client.modify_volume(VolumeId=v.id,Iops=5000)"
   ]
  },
  {
   "cell_type": "code",
   "execution_count": 482,
   "metadata": {},
   "outputs": [
    {
     "data": {
      "text/plain": [
       "32000"
      ]
     },
     "execution_count": 482,
     "metadata": {},
     "output_type": "execute_result"
    }
   ],
   "source": [
    "v.iops"
   ]
  },
  {
   "cell_type": "markdown",
   "metadata": {},
   "source": [
    "### Create EBS Volume"
   ]
  },
  {
   "cell_type": "code",
   "execution_count": 180,
   "metadata": {},
   "outputs": [],
   "source": [
    "tag_specs = [{\n",
    "    'ResourceType': 'volume',\n",
    "    'Tags': [{\n",
    "        'Key': 'Name',\n",
    "        'Value': 'imagenet_high_perf_8'\n",
    "    }]\n",
    "}]"
   ]
  },
  {
   "cell_type": "code",
   "execution_count": 55,
   "metadata": {},
   "outputs": [
    {
     "data": {
      "text/plain": [
       "[{'ResourceType': 'volume',\n",
       "  'Tags': [{'Key': 'Name', 'Value': 'imagenet_high_perf_7'}]}]"
      ]
     },
     "execution_count": 55,
     "metadata": {},
     "output_type": "execute_result"
    }
   ],
   "source": [
    "tag_specs"
   ]
  },
  {
   "cell_type": "code",
   "execution_count": 187,
   "metadata": {},
   "outputs": [],
   "source": [
    "volume = ec2.create_volume(Size=600, VolumeType='io1', TagSpecifications=tag_specs,\n",
    "                              AvailabilityZone='us-west-2c', SnapshotId='snap-07badd1702c8aa146', Iops=15000)"
   ]
  },
  {
   "cell_type": "code",
   "execution_count": 23,
   "metadata": {},
   "outputs": [
    {
     "data": {
      "text/plain": [
       "{'AttachTime': datetime.datetime(2018, 6, 25, 21, 33, 33, 102000, tzinfo=tzutc()),\n",
       " 'Device': '/dev/xvdf',\n",
       " 'InstanceId': 'i-01ed097e3b88723ac',\n",
       " 'State': 'attaching',\n",
       " 'VolumeId': 'vol-0581817db900cce84',\n",
       " 'ResponseMetadata': {'RequestId': '3d8e0366-1e02-4b72-8d71-ba316e381683',\n",
       "  'HTTPStatusCode': 200,\n",
       "  'HTTPHeaders': {'content-type': 'text/xml;charset=UTF-8',\n",
       "   'transfer-encoding': 'chunked',\n",
       "   'vary': 'Accept-Encoding',\n",
       "   'date': 'Mon, 25 Jun 2018 21:33:32 GMT',\n",
       "   'server': 'AmazonEC2'},\n",
       "  'RetryAttempts': 0}}"
      ]
     },
     "execution_count": 23,
     "metadata": {},
     "output_type": "execute_result"
    }
   ],
   "source": [
    "# volume.attach_to_instance(InstanceId='i-01ed097e3b88723ac', Device='/dev/xvdf')"
   ]
  },
  {
   "cell_type": "code",
   "execution_count": 226,
   "metadata": {},
   "outputs": [],
   "source": [
    "volumes = list(ec2.volumes.all())"
   ]
  },
  {
   "cell_type": "code",
   "execution_count": 228,
   "metadata": {},
   "outputs": [
    {
     "data": {
      "text/plain": [
       "[([{'Key': 'Name', 'Value': 'imagenet_high_perf_0'}], 800),\n",
       " (None, 1000),\n",
       " (None, 1000),\n",
       " ([{'Key': 'Name', 'Value': 'imagenet_high_perf_1'}], 800),\n",
       " ([{'Key': 'Name', 'Value': 'imagenet_high_perf_2'}], 800),\n",
       " ([{'Key': 'Name', 'Value': 'imagenet_high_perf_3'}], 800),\n",
       " ([{'Key': 'Name', 'Value': 'imagenet_high_perf_5'}], 800),\n",
       " ([{'Key': 'Name', 'Value': 'imagenet_high_perf_7'}], 800),\n",
       " ([{'Key': 'Name', 'Value': 'imagenet_high_perf_4'}], 800),\n",
       " ([{'Key': 'Name', 'Value': 'imagenet_high_perf_6'}], 800),\n",
       " ([{'Key': 'Name', 'Value': 'imagenet_high_perf_8'}], 800),\n",
       " (None, 350),\n",
       " (None, 350),\n",
       " (None, 350),\n",
       " ([{'Key': 'Name', 'Value': 'processing'}], 150),\n",
       " (None, 75),\n",
       " (None, 1000),\n",
       " (None, 8),\n",
       " (None, 75),\n",
       " (None, 75)]"
      ]
     },
     "execution_count": 228,
     "metadata": {},
     "output_type": "execute_result"
    }
   ],
   "source": [
    "[(v.tags, v.size) for v in volumes]"
   ]
  },
  {
   "cell_type": "code",
   "execution_count": 214,
   "metadata": {},
   "outputs": [],
   "source": [
    "v = list(ec2.volumes.filter(Filters=[{'Name':'tag:Name', 'Values':['imagenet_high_perf']}]).all())[0]"
   ]
  },
  {
   "cell_type": "code",
   "execution_count": 211,
   "metadata": {},
   "outputs": [
    {
     "data": {
      "text/plain": [
       "{'AttachTime': datetime.datetime(2018, 6, 26, 21, 12, 5, 221000, tzinfo=tzutc()),\n",
       " 'Device': '/dev/xvdf',\n",
       " 'InstanceId': 'i-00c7d5ff37462ea75',\n",
       " 'State': 'attaching',\n",
       " 'VolumeId': 'vol-0581817db900cce84',\n",
       " 'ResponseMetadata': {'RequestId': 'fc04792f-11c0-4004-abb2-3fa5a1786fe1',\n",
       "  'HTTPStatusCode': 200,\n",
       "  'HTTPHeaders': {'content-type': 'text/xml;charset=UTF-8',\n",
       "   'transfer-encoding': 'chunked',\n",
       "   'vary': 'Accept-Encoding',\n",
       "   'date': 'Tue, 26 Jun 2018 21:12:04 GMT',\n",
       "   'server': 'AmazonEC2'},\n",
       "  'RetryAttempts': 0}}"
      ]
     },
     "execution_count": 211,
     "metadata": {},
     "output_type": "execute_result"
    }
   ],
   "source": [
    "v.attach_to_instance(InstanceId='i-00c7d5ff37462ea75',  Device='/dev/xvdf')"
   ]
  },
  {
   "cell_type": "markdown",
   "metadata": {},
   "source": [
    "## Creating snapshot"
   ]
  },
  {
   "cell_type": "code",
   "execution_count": null,
   "metadata": {},
   "outputs": [],
   "source": [
    "volumes = list(ec2.volumes.all());\n",
    "[(i, v.tags, v.attachments, v.iops) for i,v in enumerate(volumes)]"
   ]
  },
  {
   "cell_type": "code",
   "execution_count": 562,
   "metadata": {},
   "outputs": [],
   "source": [
    "v = volumes[11]"
   ]
  },
  {
   "cell_type": "code",
   "execution_count": 563,
   "metadata": {},
   "outputs": [
    {
     "data": {
      "text/plain": [
       "[{'Key': 'Name', 'Value': 'imagenet_high_perf_2'}]"
      ]
     },
     "execution_count": 563,
     "metadata": {},
     "output_type": "execute_result"
    }
   ],
   "source": [
    "v.tags"
   ]
  },
  {
   "cell_type": "code",
   "execution_count": 564,
   "metadata": {},
   "outputs": [],
   "source": [
    "response = ec2.create_snapshot(\n",
    "    Description='Imagenet data snapshot',\n",
    "    VolumeId=v.id,\n",
    "    TagSpecifications=[\n",
    "        {\n",
    "            'ResourceType': 'snapshot',\n",
    "            'Tags': [\n",
    "                {\n",
    "                    'Key': 'Name',\n",
    "                    'Value': 'imagenet_high_perf_snapshot'\n",
    "                },\n",
    "            ]\n",
    "        },\n",
    "    ]\n",
    ")"
   ]
  },
  {
   "cell_type": "code",
   "execution_count": 565,
   "metadata": {},
   "outputs": [
    {
     "data": {
      "text/plain": [
       "ec2.Snapshot(id='snap-07badd1702c8aa146')"
      ]
     },
     "execution_count": 565,
     "metadata": {},
     "output_type": "execute_result"
    }
   ],
   "source": [
    "response"
   ]
  },
  {
   "cell_type": "code",
   "execution_count": 300,
   "metadata": {},
   "outputs": [],
   "source": [
    "snapshots = list(ec2.snapshots.filter(OwnerIds=['self']))"
   ]
  },
  {
   "cell_type": "code",
   "execution_count": 301,
   "metadata": {},
   "outputs": [
    {
     "data": {
      "text/plain": [
       "[('completed', None),\n",
       " ('completed', None),\n",
       " ('completed', None),\n",
       " ('completed', None),\n",
       " ('completed', None),\n",
       " ('completed', None),\n",
       " ('completed', None),\n",
       " ('completed', None),\n",
       " ('completed', [{'Key': 'Name', 'Value': 'imagenet_high_perf_snapshot'}])]"
      ]
     },
     "execution_count": 301,
     "metadata": {},
     "output_type": "execute_result"
    }
   ],
   "source": [
    "[(s.state, s.tags) for s in snapshots]"
   ]
  },
  {
   "cell_type": "markdown",
   "metadata": {},
   "source": [
    "### S3"
   ]
  },
  {
   "cell_type": "code",
   "execution_count": 19,
   "metadata": {},
   "outputs": [],
   "source": [
    "sess = u.get_session('diux')"
   ]
  },
  {
   "cell_type": "code",
   "execution_count": 20,
   "metadata": {},
   "outputs": [],
   "source": [
    "s3 = sess.client('s3')"
   ]
  },
  {
   "cell_type": "code",
   "execution_count": 21,
   "metadata": {},
   "outputs": [
    {
     "data": {
      "text/plain": [
       "{'ResponseMetadata': {'RequestId': '44067EC75F5E7F1B',\n",
       "  'HostId': 'NzVezz646DyK/YjX7MUCu/5v9dKdw9DfUJcX3hxUTA5hTUD7FPC2+S72VHV82w/5Ow5Z1QXW1sc=',\n",
       "  'HTTPStatusCode': 200,\n",
       "  'HTTPHeaders': {'x-amz-id-2': 'NzVezz646DyK/YjX7MUCu/5v9dKdw9DfUJcX3hxUTA5hTUD7FPC2+S72VHV82w/5Ow5Z1QXW1sc=',\n",
       "   'x-amz-request-id': '44067EC75F5E7F1B',\n",
       "   'date': 'Sun, 01 Jul 2018 22:12:09 GMT',\n",
       "   'content-type': 'application/xml',\n",
       "   'transfer-encoding': 'chunked',\n",
       "   'server': 'AmazonS3'},\n",
       "  'RetryAttempts': 0},\n",
       " 'Buckets': [{'Name': '14882-pachyderm-store',\n",
       "   'CreationDate': datetime.datetime(2018, 3, 11, 21, 30, 15, tzinfo=tzutc())},\n",
       "  {'Name': '20081-pachyderm-store',\n",
       "   'CreationDate': datetime.datetime(2017, 10, 23, 20, 28, 40, tzinfo=tzutc())},\n",
       "  {'Name': '20522-pachyderm-store',\n",
       "   'CreationDate': datetime.datetime(2018, 2, 27, 21, 21, 37, tzinfo=tzutc())},\n",
       "  {'Name': '24869-pachyderm-store',\n",
       "   'CreationDate': datetime.datetime(2018, 5, 26, 0, 25, 32, tzinfo=tzutc())},\n",
       "  {'Name': '3005-pachyderm-store',\n",
       "   'CreationDate': datetime.datetime(2017, 10, 23, 20, 3, 51, tzinfo=tzutc())},\n",
       "  {'Name': '31733-pachyderm-store',\n",
       "   'CreationDate': datetime.datetime(2018, 5, 2, 2, 55, 48, tzinfo=tzutc())},\n",
       "  {'Name': '32091-pachyderm-store',\n",
       "   'CreationDate': datetime.datetime(2018, 3, 22, 1, 55, 25, tzinfo=tzutc())},\n",
       "  {'Name': '4410-pachyderm-store',\n",
       "   'CreationDate': datetime.datetime(2018, 5, 1, 22, 14, 6, tzinfo=tzutc())},\n",
       "  {'Name': '5230-pachyderm-store',\n",
       "   'CreationDate': datetime.datetime(2017, 12, 6, 19, 22, 38, tzinfo=tzutc())},\n",
       "  {'Name': '6711-pachyderm-store',\n",
       "   'CreationDate': datetime.datetime(2017, 12, 6, 18, 43, 36, tzinfo=tzutc())},\n",
       "  {'Name': '7506-pachyderm-store',\n",
       "   'CreationDate': datetime.datetime(2018, 1, 15, 20, 22, 1, tzinfo=tzutc())},\n",
       "  {'Name': '8649-pachyderm-store',\n",
       "   'CreationDate': datetime.datetime(2018, 1, 15, 20, 4, 37, tzinfo=tzutc())},\n",
       "  {'Name': '8681-pachyderm-store',\n",
       "   'CreationDate': datetime.datetime(2018, 5, 18, 13, 56, 41, tzinfo=tzutc())},\n",
       "  {'Name': 'cloud-train',\n",
       "   'CreationDate': datetime.datetime(2017, 11, 12, 20, 11, 23, tzinfo=tzutc())},\n",
       "  {'Name': 'dev-frontend-stage',\n",
       "   'CreationDate': datetime.datetime(2018, 5, 19, 16, 10, 24, tzinfo=tzutc())},\n",
       "  {'Name': 'dev-frontend-static',\n",
       "   'CreationDate': datetime.datetime(2018, 5, 19, 16, 10, 12, tzinfo=tzutc())},\n",
       "  {'Name': 'distributed-logs',\n",
       "   'CreationDate': datetime.datetime(2018, 5, 19, 16, 18, 50, tzinfo=tzutc())},\n",
       "  {'Name': 'dk-cf-test',\n",
       "   'CreationDate': datetime.datetime(2018, 2, 13, 17, 8, 17, tzinfo=tzutc())},\n",
       "  {'Name': 'dltest-fd3s82m',\n",
       "   'CreationDate': datetime.datetime(2018, 2, 19, 22, 5, 7, tzinfo=tzutc())},\n",
       "  {'Name': 'k8scom-state-store-pachyderm-10409',\n",
       "   'CreationDate': datetime.datetime(2018, 1, 15, 20, 15, 46, tzinfo=tzutc())},\n",
       "  {'Name': 'k8scom-state-store-pachyderm-12324',\n",
       "   'CreationDate': datetime.datetime(2018, 5, 26, 0, 19, 11, tzinfo=tzutc())},\n",
       "  {'Name': 'k8scom-state-store-pachyderm-14288',\n",
       "   'CreationDate': datetime.datetime(2017, 10, 23, 19, 58, 40, tzinfo=tzutc())},\n",
       "  {'Name': 'k8scom-state-store-pachyderm-15044',\n",
       "   'CreationDate': datetime.datetime(2017, 10, 23, 20, 23, 28, tzinfo=tzutc())},\n",
       "  {'Name': 'k8scom-state-store-pachyderm-16256',\n",
       "   'CreationDate': datetime.datetime(2018, 3, 11, 21, 25, 1, tzinfo=tzutc())},\n",
       "  {'Name': 'k8scom-state-store-pachyderm-16680',\n",
       "   'CreationDate': datetime.datetime(2017, 10, 23, 18, 0, 4, tzinfo=tzutc())},\n",
       "  {'Name': 'k8scom-state-store-pachyderm-22440',\n",
       "   'CreationDate': datetime.datetime(2017, 10, 23, 17, 54, 16, tzinfo=tzutc())},\n",
       "  {'Name': 'k8scom-state-store-pachyderm-25880',\n",
       "   'CreationDate': datetime.datetime(2018, 5, 2, 2, 47, 37, tzinfo=tzutc())},\n",
       "  {'Name': 'k8scom-state-store-pachyderm-26313',\n",
       "   'CreationDate': datetime.datetime(2018, 5, 18, 13, 48, 33, tzinfo=tzutc())},\n",
       "  {'Name': 'k8scom-state-store-pachyderm-26501',\n",
       "   'CreationDate': datetime.datetime(2017, 10, 23, 18, 3, 38, tzinfo=tzutc())},\n",
       "  {'Name': 'k8scom-state-store-pachyderm-26541',\n",
       "   'CreationDate': datetime.datetime(2017, 12, 6, 18, 54, 14, tzinfo=tzutc())},\n",
       "  {'Name': 'k8scom-state-store-pachyderm-26608',\n",
       "   'CreationDate': datetime.datetime(2018, 1, 15, 19, 56, 47, tzinfo=tzutc())},\n",
       "  {'Name': 'k8scom-state-store-pachyderm-27141',\n",
       "   'CreationDate': datetime.datetime(2017, 12, 6, 19, 17, 51, tzinfo=tzutc())},\n",
       "  {'Name': 'k8scom-state-store-pachyderm-27895',\n",
       "   'CreationDate': datetime.datetime(2018, 5, 1, 22, 9, 21, tzinfo=tzutc())},\n",
       "  {'Name': 'k8scom-state-store-pachyderm-28076',\n",
       "   'CreationDate': datetime.datetime(2018, 1, 15, 19, 53, 53, tzinfo=tzutc())},\n",
       "  {'Name': 'k8scom-state-store-pachyderm-5782',\n",
       "   'CreationDate': datetime.datetime(2018, 5, 18, 13, 49, tzinfo=tzutc())},\n",
       "  {'Name': 'k8scom-state-store-pachyderm-6373',\n",
       "   'CreationDate': datetime.datetime(2018, 5, 2, 2, 23, 25, tzinfo=tzutc())},\n",
       "  {'Name': 'k8scom-state-store-pachyderm-654',\n",
       "   'CreationDate': datetime.datetime(2017, 10, 23, 18, 10, 18, tzinfo=tzutc())},\n",
       "  {'Name': 'k8scom-state-store-pachyderm-8430',\n",
       "   'CreationDate': datetime.datetime(2018, 3, 22, 1, 47, 41, tzinfo=tzutc())},\n",
       "  {'Name': 'k8scom-state-store-pachyderm-8446',\n",
       "   'CreationDate': datetime.datetime(2018, 2, 27, 21, 15, 57, tzinfo=tzutc())},\n",
       "  {'Name': 'k8scom-state-store-pachyderm-9488',\n",
       "   'CreationDate': datetime.datetime(2017, 12, 6, 18, 36, 13, tzinfo=tzutc())},\n",
       "  {'Name': 'pachyderm-snapshots',\n",
       "   'CreationDate': datetime.datetime(2018, 3, 22, 17, 14, 23, tzinfo=tzutc())},\n",
       "  {'Name': 'sar-data-iceeye',\n",
       "   'CreationDate': datetime.datetime(2017, 12, 10, 3, 50, 57, tzinfo=tzutc())},\n",
       "  {'Name': 'www.xviewdataset.org',\n",
       "   'CreationDate': datetime.datetime(2018, 1, 30, 2, 17, 41, tzinfo=tzutc())},\n",
       "  {'Name': 'xview',\n",
       "   'CreationDate': datetime.datetime(2017, 10, 20, 23, 1, 34, tzinfo=tzutc())},\n",
       "  {'Name': 'xview-app-dev',\n",
       "   'CreationDate': datetime.datetime(2018, 2, 5, 15, 58, 34, tzinfo=tzutc())},\n",
       "  {'Name': 'xview-app-dev2',\n",
       "   'CreationDate': datetime.datetime(2018, 2, 28, 16, 13, 46, tzinfo=tzutc())},\n",
       "  {'Name': 'xview-challenge-app',\n",
       "   'CreationDate': datetime.datetime(2018, 3, 30, 7, 55, 12, tzinfo=tzutc())},\n",
       "  {'Name': 'xview-challenge-app-logs',\n",
       "   'CreationDate': datetime.datetime(2018, 5, 19, 16, 28, 24, tzinfo=tzutc())},\n",
       "  {'Name': 'xview-challenge-app-staging',\n",
       "   'CreationDate': datetime.datetime(2018, 4, 6, 15, 46, 9, tzinfo=tzutc())},\n",
       "  {'Name': 'xview-challenge-app-staging-logs',\n",
       "   'CreationDate': datetime.datetime(2018, 5, 19, 16, 27, 28, tzinfo=tzutc())},\n",
       "  {'Name': 'xview-data-loadtest',\n",
       "   'CreationDate': datetime.datetime(2018, 1, 16, 19, 22, 56, tzinfo=tzutc())},\n",
       "  {'Name': 'xview-data-loadtest-full',\n",
       "   'CreationDate': datetime.datetime(2018, 1, 18, 1, 48, 6, tzinfo=tzutc())},\n",
       "  {'Name': 'xview-datastore-elc-bkup',\n",
       "   'CreationDate': datetime.datetime(2018, 5, 21, 0, 56, 50, tzinfo=tzutc())},\n",
       "  {'Name': 'xview-microsite-test',\n",
       "   'CreationDate': datetime.datetime(2018, 5, 19, 16, 16, 55, tzinfo=tzutc())},\n",
       "  {'Name': 'xview-pipeline-split-val-leaderboard',\n",
       "   'CreationDate': datetime.datetime(2018, 2, 7, 23, 25, 51, tzinfo=tzutc())},\n",
       "  {'Name': 'xview-pipeline-splits',\n",
       "   'CreationDate': datetime.datetime(2018, 2, 7, 21, 15, 47, tzinfo=tzutc())},\n",
       "  {'Name': 'xview-redteam-may',\n",
       "   'CreationDate': datetime.datetime(2018, 5, 19, 16, 8, 10, tzinfo=tzutc())},\n",
       "  {'Name': 'xview-redteam-round2',\n",
       "   'CreationDate': datetime.datetime(2018, 5, 19, 16, 16, 25, tzinfo=tzutc())},\n",
       "  {'Name': 'xview-review-4',\n",
       "   'CreationDate': datetime.datetime(2018, 3, 28, 20, 58, 51, tzinfo=tzutc())},\n",
       "  {'Name': 'xview-solver-downloads',\n",
       "   'CreationDate': datetime.datetime(2018, 2, 20, 1, 21, 26, tzinfo=tzutc())},\n",
       "  {'Name': 'xviewdataset.org',\n",
       "   'CreationDate': datetime.datetime(2018, 1, 30, 2, 11, 54, tzinfo=tzutc())},\n",
       "  {'Name': 'yaroslav-pywren-739',\n",
       "   'CreationDate': datetime.datetime(2018, 1, 11, 2, 18, 37, tzinfo=tzutc())},\n",
       "  {'Name': 'yaroslavvb',\n",
       "   'CreationDate': datetime.datetime(2018, 1, 22, 22, 37, 14, tzinfo=tzutc())}],\n",
       " 'Owner': {'DisplayName': 'brendan',\n",
       "  'ID': '648be87fbe1a4bfe4e6474e724f7fdb297dacae3c2355a5ccd123b797a53a8e5'}}"
      ]
     },
     "execution_count": 21,
     "metadata": {},
     "output_type": "execute_result"
    }
   ],
   "source": [
    "s3.list_buckets()"
   ]
  },
  {
   "cell_type": "markdown",
   "metadata": {},
   "source": [
    "### Diux test"
   ]
  },
  {
   "cell_type": "code",
   "execution_count": 537,
   "metadata": {},
   "outputs": [],
   "source": [
    "sess = u.get_session('diux-test')"
   ]
  },
  {
   "cell_type": "code",
   "execution_count": 538,
   "metadata": {},
   "outputs": [],
   "source": [
    "dt_ec2 = sess.resource('ec2')"
   ]
  },
  {
   "cell_type": "code",
   "execution_count": 541,
   "metadata": {},
   "outputs": [
    {
     "data": {
      "text/plain": [
       "[({'Code': 80, 'Name': 'stopped'},\n",
       "  [{'Key': 'Name', 'Value': '1.worker.raybench11'}]),\n",
       " ({'Code': 80, 'Name': 'stopped'},\n",
       "  [{'Key': 'Name', 'Value': '0.worker.raybench11'}]),\n",
       " ({'Code': 80, 'Name': 'stopped'}, None),\n",
       " ({'Code': 80, 'Name': 'stopped'},\n",
       "  [{'Key': 'Name', 'Value': '0.gpubox.box00'}]),\n",
       " ({'Code': 80, 'Name': 'stopped'},\n",
       "  [{'Key': 'Name', 'Value': '0.tb.tfbench14'}]),\n",
       " ({'Code': 80, 'Name': 'stopped'},\n",
       "  [{'Key': 'Name', 'Value': '0.gpubox.box00'}]),\n",
       " ({'Code': 80, 'Name': 'stopped'},\n",
       "  [{'Key': 'Name', 'Value': '0.tb.tfbench11'}]),\n",
       " ({'Code': 80, 'Name': 'stopped'},\n",
       "  [{'Key': 'Name', 'Value': '0.tb.tfbench14'}]),\n",
       " ({'Code': 80, 'Name': 'stopped'},\n",
       "  [{'Key': 'Name', 'Value': '0.pytorch.large_test'}])]"
      ]
     },
     "execution_count": 541,
     "metadata": {},
     "output_type": "execute_result"
    }
   ],
   "source": [
    "[(i.state, i.tags) for i in list(dt_ec2.instances.all())]"
   ]
  },
  {
   "cell_type": "code",
   "execution_count": null,
   "metadata": {},
   "outputs": [],
   "source": []
  }
 ],
 "metadata": {
  "kernelspec": {
   "display_name": "Python 3",
   "language": "python",
   "name": "python3"
  },
  "language_info": {
   "codemirror_mode": {
    "name": "ipython",
    "version": 3
   },
   "file_extension": ".py",
   "mimetype": "text/x-python",
   "name": "python",
   "nbconvert_exporter": "python",
   "pygments_lexer": "ipython3",
   "version": "3.6.5"
  }
 },
 "nbformat": 4,
 "nbformat_minor": 2
}
